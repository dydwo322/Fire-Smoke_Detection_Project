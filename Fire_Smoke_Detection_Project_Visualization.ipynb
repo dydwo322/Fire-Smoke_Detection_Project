{
  "nbformat": 4,
  "nbformat_minor": 0,
  "metadata": {
    "colab": {
      "provenance": []
    },
    "kernelspec": {
      "name": "python3",
      "display_name": "Python 3"
    },
    "language_info": {
      "name": "python"
    }
  },
  "cells": [
    {
      "cell_type": "markdown",
      "source": [
        "# **이미지파일로 바운딩박스 그리기 & 캠으로 객체 인식 시키기**"
      ],
      "metadata": {
        "id": "ULfwAIdKKwrR"
      }
    },
    {
      "cell_type": "markdown",
      "metadata": {
        "id": "vgTrtwi__fBw"
      },
      "source": [
        "해당 코드는 theAIGuysCode의 github repository를 참고하여 제작되었습니다.\n",
        "\n",
        "링크: https://github.com/theAIGuysCode/YOLOv4-Cloud-Tutorial"
      ]
    },
    {
      "cell_type": "code",
      "source": [
        "import tensorflow as tf"
      ],
      "metadata": {
        "id": "Cu4e3t8sEbse"
      },
      "execution_count": null,
      "outputs": []
    },
    {
      "cell_type": "code",
      "source": [
        "tf.__version__"
      ],
      "metadata": {
        "id": "7Ah8kVfbEYrE",
        "outputId": "3cf95107-f28e-4195-82b9-8cbffb7f5ebf",
        "colab": {
          "base_uri": "https://localhost:8080/",
          "height": 36
        }
      },
      "execution_count": null,
      "outputs": [
        {
          "output_type": "execute_result",
          "data": {
            "text/plain": [
              "'2.8.2'"
            ],
            "application/vnd.google.colaboratory.intrinsic+json": {
              "type": "string"
            }
          },
          "metadata": {},
          "execution_count": 2
        }
      ]
    },
    {
      "cell_type": "code",
      "execution_count": null,
      "metadata": {
        "id": "A578sDm_-BJ9"
      },
      "outputs": [],
      "source": [
        "# import dependencies\n",
        "from IPython.display import display, Javascript, Image\n",
        "from google.colab.output import eval_js\n",
        "from google.colab.patches import cv2_imshow\n",
        "from base64 import b64decode, b64encode\n",
        "import cv2\n",
        "import numpy as np\n",
        "import PIL\n",
        "import io\n",
        "import html\n",
        "import time\n",
        "import os\n",
        "import matplotlib.pyplot as plt\n",
        "from google.colab import files\n",
        "\n",
        "%matplotlib inline"
      ]
    },
    {
      "cell_type": "code",
      "execution_count": null,
      "metadata": {
        "id": "8UlRIVhaYPd8"
      },
      "outputs": [],
      "source": [
        "# clone darknet repo\n",
        "#https://github.com/theAIGuysCode/YOLOv4-Cloud-Tutorial.git\n",
        "!git clone https://github.com/AlexeyAB/darknet"
      ]
    },
    {
      "cell_type": "code",
      "execution_count": null,
      "metadata": {
        "colab": {
          "base_uri": "https://localhost:8080/"
        },
        "id": "OrQyrbUHIZTc",
        "outputId": "75e54da9-47dc-46a7-de76-2517e9a749b0"
      },
      "outputs": [
        {
          "output_type": "stream",
          "name": "stdout",
          "text": [
            "100% 256M/256M [00:00<00:00, 292MB/s]\n"
          ]
        }
      ],
      "source": [
        "%cd darknet/data\n",
        "\n",
        "# fire_data.data 다운로드 \n",
        "#https://drive.google.com/file/d/11jGe8uuVaO4ArCVPfisr3XKQpmWQzr0U/view?usp=sharing\n",
        "!gdown --id 11jGe8uuVaO4ArCVPfisr3XKQpmWQzr0U\n",
        "\n",
        "# test.txt 다운로드 \n",
        "#https://drive.google.com/file/d/1Gf9Phpjx4zYxYcmHqFxWPynY40TKO9Jm/view?usp=sharing\n",
        "!gdown --id 1Gf9Phpjx4zYxYcmHqFxWPynY40TKO9Jm\n",
        "\n",
        "#train.txt 다운로드\n",
        "#https://drive.google.com/file/d/1VDfQy4QI6MikRjcbLnShIr0Jmzc39ZIs/view?usp=sharing\n",
        "!gdown --id 1VDfQy4QI6MikRjcbLnShIr0Jmzc39ZIs\n",
        "\n",
        "#valid.txt\n",
        "#https://drive.google.com/file/d/1bLDOdSsw2L8Th4LO6ZP9Yv2rGyr7a6O1/view?usp=sharing\n",
        "!gdown --id 1bLDOdSsw2L8Th4LO6ZP9Yv2rGyr7a6O1\n",
        "\n",
        "#ClassNames.names 다운로드\n",
        "#https://drive.google.com/file/d/1E67kBGQelPpELPGwqcyh5avQPNijwiC1/view?usp=sharing\n",
        "!gdown --id 1E67kBGQelPpELPGwqcyh5avQPNijwiC1\n",
        "\n",
        "#yolov4-custom_best (1).weight 다운로드 \n",
        "#https://drive.google.com/file/d/18Wt9F_TNOWqtywGFsp1SHHBeVy6IfPaf/view?usp=sharing\n",
        "!gdown --id 18Wt9F_TNOWqtywGFsp1SHHBeVy6IfPaf"
      ]
    },
    {
      "cell_type": "code",
      "execution_count": null,
      "metadata": {
        "id": "ls8CeinLooyy"
      },
      "outputs": [],
      "source": [
        "#https://drive.google.com/file/d/1E67kBGQelPpELPGwqcyh5avQPNijwiC1/view?usp=sharing\n",
        "!gdown --id 1E67kBGQelPpELPGwqcyh5avQPNijwiC1"
      ]
    },
    {
      "cell_type": "code",
      "execution_count": null,
      "metadata": {
        "id": "LlGjksO0v8BU"
      },
      "outputs": [],
      "source": [
        "#https://drive.google.com/file/d/18Wt9F_TNOWqtywGFsp1SHHBeVy6IfPaf/view?usp=sharing\n",
        "!gdown --id 18Wt9F_TNOWqtywGFsp1SHHBeVy6IfPaf"
      ]
    },
    {
      "cell_type": "markdown",
      "metadata": {
        "id": "oEEcnuT50tKK"
      },
      "source": [
        "## 3) .cfg 파일 수정"
      ]
    },
    {
      "cell_type": "code",
      "execution_count": null,
      "metadata": {
        "colab": {
          "base_uri": "https://localhost:8080/"
        },
        "id": "z2c0DwdKYEUo",
        "outputId": "6c19b0ee-0eda-4643-b509-6b4e60153d5f"
      },
      "outputs": [
        {
          "name": "stdout",
          "output_type": "stream",
          "text": [
            "[net]\n",
            "# Testing\n",
            "#batch=1\n",
            "#subdivisions=1\n",
            "# Training\n",
            "batch=1\n",
            "subdivisions=64\n",
            "width=608\n",
            "height=608\n",
            "channels=3\n",
            "momentum=0.949\n",
            "decay=0.0005\n",
            "angle=0\n",
            "saturation = 1.5\n",
            "exposure = 1.5\n",
            "hue=.1\n",
            "\n",
            "learning_rate=0.001\n",
            "burn_in=1000\n",
            "max_batches = 5500\n",
            "policy=steps\n",
            "steps=4400,4950\n",
            "scales=.1,.1\n",
            "\n",
            "#cutmix=1\n",
            "mosaic=1\n",
            "\n",
            "#:104x104 54:52x52 85:26x26 104:13x13 for 416\n",
            "\n",
            "[convolutional]\n",
            "batch_normalize=1\n",
            "filters=32\n",
            "size=3\n",
            "stride=1\n",
            "pad=1\n",
            "activation=mish\n",
            "\n",
            "# Downsample\n",
            "\n",
            "[convolutional]\n",
            "batch_normalize=1\n",
            "filters=64\n",
            "size=3\n",
            "stride=2\n",
            "pad=1\n",
            "activation=mish\n",
            "\n",
            "[convolutional]\n",
            "batch_normalize=1\n",
            "filters=64\n",
            "size=1\n",
            "stride=1\n",
            "pad=1\n",
            "activation=mish\n",
            "\n",
            "[route]\n",
            "layers = -2\n",
            "\n",
            "[convolutional]\n",
            "batch_normalize=1\n",
            "filters=64\n",
            "size=1\n",
            "stride=1\n",
            "pad=1\n",
            "activation=mish\n",
            "\n",
            "[convolutional]\n",
            "batch_normalize=1\n",
            "filters=32\n",
            "size=1\n",
            "stride=1\n",
            "pad=1\n",
            "activation=mish\n",
            "\n",
            "[convolutional]\n",
            "batch_normalize=1\n",
            "filters=64\n",
            "size=3\n",
            "stride=1\n",
            "pad=1\n",
            "activation=mish\n",
            "\n",
            "[shortcut]\n",
            "from=-3\n",
            "activation=linear\n",
            "\n",
            "[convolutional]\n",
            "batch_normalize=1\n",
            "filters=64\n",
            "size=1\n",
            "stride=1\n",
            "pad=1\n",
            "activation=mish\n",
            "\n",
            "[route]\n",
            "layers = -1,-7\n",
            "\n",
            "[convolutional]\n",
            "batch_normalize=1\n",
            "filters=64\n",
            "size=1\n",
            "stride=1\n",
            "pad=1\n",
            "activation=mish\n",
            "\n",
            "# Downsample\n",
            "\n",
            "[convolutional]\n",
            "batch_normalize=1\n",
            "filters=128\n",
            "size=3\n",
            "stride=2\n",
            "pad=1\n",
            "activation=mish\n",
            "\n",
            "[convolutional]\n",
            "batch_normalize=1\n",
            "filters=64\n",
            "size=1\n",
            "stride=1\n",
            "pad=1\n",
            "activation=mish\n",
            "\n",
            "[route]\n",
            "layers = -2\n",
            "\n",
            "[convolutional]\n",
            "batch_normalize=1\n",
            "filters=64\n",
            "size=1\n",
            "stride=1\n",
            "pad=1\n",
            "activation=mish\n",
            "\n",
            "[convolutional]\n",
            "batch_normalize=1\n",
            "filters=64\n",
            "size=1\n",
            "stride=1\n",
            "pad=1\n",
            "activation=mish\n",
            "\n",
            "[convolutional]\n",
            "batch_normalize=1\n",
            "filters=64\n",
            "size=3\n",
            "stride=1\n",
            "pad=1\n",
            "activation=mish\n",
            "\n",
            "[shortcut]\n",
            "from=-3\n",
            "activation=linear\n",
            "\n",
            "[convolutional]\n",
            "batch_normalize=1\n",
            "filters=64\n",
            "size=1\n",
            "stride=1\n",
            "pad=1\n",
            "activation=mish\n",
            "\n",
            "[convolutional]\n",
            "batch_normalize=1\n",
            "filters=64\n",
            "size=3\n",
            "stride=1\n",
            "pad=1\n",
            "activation=mish\n",
            "\n",
            "[shortcut]\n",
            "from=-3\n",
            "activation=linear\n",
            "\n",
            "[convolutional]\n",
            "batch_normalize=1\n",
            "filters=64\n",
            "size=1\n",
            "stride=1\n",
            "pad=1\n",
            "activation=mish\n",
            "\n",
            "[route]\n",
            "layers = -1,-10\n",
            "\n",
            "[convolutional]\n",
            "batch_normalize=1\n",
            "filters=128\n",
            "size=1\n",
            "stride=1\n",
            "pad=1\n",
            "activation=mish\n",
            "\n",
            "# Downsample\n",
            "\n",
            "[convolutional]\n",
            "batch_normalize=1\n",
            "filters=256\n",
            "size=3\n",
            "stride=2\n",
            "pad=1\n",
            "activation=mish\n",
            "\n",
            "[convolutional]\n",
            "batch_normalize=1\n",
            "filters=128\n",
            "size=1\n",
            "stride=1\n",
            "pad=1\n",
            "activation=mish\n",
            "\n",
            "[route]\n",
            "layers = -2\n",
            "\n",
            "[convolutional]\n",
            "batch_normalize=1\n",
            "filters=128\n",
            "size=1\n",
            "stride=1\n",
            "pad=1\n",
            "activation=mish\n",
            "\n",
            "[convolutional]\n",
            "batch_normalize=1\n",
            "filters=128\n",
            "size=1\n",
            "stride=1\n",
            "pad=1\n",
            "activation=mish\n",
            "\n",
            "[convolutional]\n",
            "batch_normalize=1\n",
            "filters=128\n",
            "size=3\n",
            "stride=1\n",
            "pad=1\n",
            "activation=mish\n",
            "\n",
            "[shortcut]\n",
            "from=-3\n",
            "activation=linear\n",
            "\n",
            "[convolutional]\n",
            "batch_normalize=1\n",
            "filters=128\n",
            "size=1\n",
            "stride=1\n",
            "pad=1\n",
            "activation=mish\n",
            "\n",
            "[convolutional]\n",
            "batch_normalize=1\n",
            "filters=128\n",
            "size=3\n",
            "stride=1\n",
            "pad=1\n",
            "activation=mish\n",
            "\n",
            "[shortcut]\n",
            "from=-3\n",
            "activation=linear\n",
            "\n",
            "[convolutional]\n",
            "batch_normalize=1\n",
            "filters=128\n",
            "size=1\n",
            "stride=1\n",
            "pad=1\n",
            "activation=mish\n",
            "\n",
            "[convolutional]\n",
            "batch_normalize=1\n",
            "filters=128\n",
            "size=3\n",
            "stride=1\n",
            "pad=1\n",
            "activation=mish\n",
            "\n",
            "[shortcut]\n",
            "from=-3\n",
            "activation=linear\n",
            "\n",
            "[convolutional]\n",
            "batch_normalize=1\n",
            "filters=128\n",
            "size=1\n",
            "stride=1\n",
            "pad=1\n",
            "activation=mish\n",
            "\n",
            "[convolutional]\n",
            "batch_normalize=1\n",
            "filters=128\n",
            "size=3\n",
            "stride=1\n",
            "pad=1\n",
            "activation=mish\n",
            "\n",
            "[shortcut]\n",
            "from=-3\n",
            "activation=linear\n",
            "\n",
            "\n",
            "[convolutional]\n",
            "batch_normalize=1\n",
            "filters=128\n",
            "size=1\n",
            "stride=1\n",
            "pad=1\n",
            "activation=mish\n",
            "\n",
            "[convolutional]\n",
            "batch_normalize=1\n",
            "filters=128\n",
            "size=3\n",
            "stride=1\n",
            "pad=1\n",
            "activation=mish\n",
            "\n",
            "[shortcut]\n",
            "from=-3\n",
            "activation=linear\n",
            "\n",
            "[convolutional]\n",
            "batch_normalize=1\n",
            "filters=128\n",
            "size=1\n",
            "stride=1\n",
            "pad=1\n",
            "activation=mish\n",
            "\n",
            "[convolutional]\n",
            "batch_normalize=1\n",
            "filters=128\n",
            "size=3\n",
            "stride=1\n",
            "pad=1\n",
            "activation=mish\n",
            "\n",
            "[shortcut]\n",
            "from=-3\n",
            "activation=linear\n",
            "\n",
            "[convolutional]\n",
            "batch_normalize=1\n",
            "filters=128\n",
            "size=1\n",
            "stride=1\n",
            "pad=1\n",
            "activation=mish\n",
            "\n",
            "[convolutional]\n",
            "batch_normalize=1\n",
            "filters=128\n",
            "size=3\n",
            "stride=1\n",
            "pad=1\n",
            "activation=mish\n",
            "\n",
            "[shortcut]\n",
            "from=-3\n",
            "activation=linear\n",
            "\n",
            "[convolutional]\n",
            "batch_normalize=1\n",
            "filters=128\n",
            "size=1\n",
            "stride=1\n",
            "pad=1\n",
            "activation=mish\n",
            "\n",
            "[convolutional]\n",
            "batch_normalize=1\n",
            "filters=128\n",
            "size=3\n",
            "stride=1\n",
            "pad=1\n",
            "activation=mish\n",
            "\n",
            "[shortcut]\n",
            "from=-3\n",
            "activation=linear\n",
            "\n",
            "[convolutional]\n",
            "batch_normalize=1\n",
            "filters=128\n",
            "size=1\n",
            "stride=1\n",
            "pad=1\n",
            "activation=mish\n",
            "\n",
            "[route]\n",
            "layers = -1,-28\n",
            "\n",
            "[convolutional]\n",
            "batch_normalize=1\n",
            "filters=256\n",
            "size=1\n",
            "stride=1\n",
            "pad=1\n",
            "activation=mish\n",
            "\n",
            "# Downsample\n",
            "\n",
            "[convolutional]\n",
            "batch_normalize=1\n",
            "filters=512\n",
            "size=3\n",
            "stride=2\n",
            "pad=1\n",
            "activation=mish\n",
            "\n",
            "[convolutional]\n",
            "batch_normalize=1\n",
            "filters=256\n",
            "size=1\n",
            "stride=1\n",
            "pad=1\n",
            "activation=mish\n",
            "\n",
            "[route]\n",
            "layers = -2\n",
            "\n",
            "[convolutional]\n",
            "batch_normalize=1\n",
            "filters=256\n",
            "size=1\n",
            "stride=1\n",
            "pad=1\n",
            "activation=mish\n",
            "\n",
            "[convolutional]\n",
            "batch_normalize=1\n",
            "filters=256\n",
            "size=1\n",
            "stride=1\n",
            "pad=1\n",
            "activation=mish\n",
            "\n",
            "[convolutional]\n",
            "batch_normalize=1\n",
            "filters=256\n",
            "size=3\n",
            "stride=1\n",
            "pad=1\n",
            "activation=mish\n",
            "\n",
            "[shortcut]\n",
            "from=-3\n",
            "activation=linear\n",
            "\n",
            "\n",
            "[convolutional]\n",
            "batch_normalize=1\n",
            "filters=256\n",
            "size=1\n",
            "stride=1\n",
            "pad=1\n",
            "activation=mish\n",
            "\n",
            "[convolutional]\n",
            "batch_normalize=1\n",
            "filters=256\n",
            "size=3\n",
            "stride=1\n",
            "pad=1\n",
            "activation=mish\n",
            "\n",
            "[shortcut]\n",
            "from=-3\n",
            "activation=linear\n",
            "\n",
            "\n",
            "[convolutional]\n",
            "batch_normalize=1\n",
            "filters=256\n",
            "size=1\n",
            "stride=1\n",
            "pad=1\n",
            "activation=mish\n",
            "\n",
            "[convolutional]\n",
            "batch_normalize=1\n",
            "filters=256\n",
            "size=3\n",
            "stride=1\n",
            "pad=1\n",
            "activation=mish\n",
            "\n",
            "[shortcut]\n",
            "from=-3\n",
            "activation=linear\n",
            "\n",
            "\n",
            "[convolutional]\n",
            "batch_normalize=1\n",
            "filters=256\n",
            "size=1\n",
            "stride=1\n",
            "pad=1\n",
            "activation=mish\n",
            "\n",
            "[convolutional]\n",
            "batch_normalize=1\n",
            "filters=256\n",
            "size=3\n",
            "stride=1\n",
            "pad=1\n",
            "activation=mish\n",
            "\n",
            "[shortcut]\n",
            "from=-3\n",
            "activation=linear\n",
            "\n",
            "\n",
            "[convolutional]\n",
            "batch_normalize=1\n",
            "filters=256\n",
            "size=1\n",
            "stride=1\n",
            "pad=1\n",
            "activation=mish\n",
            "\n",
            "[convolutional]\n",
            "batch_normalize=1\n",
            "filters=256\n",
            "size=3\n",
            "stride=1\n",
            "pad=1\n",
            "activation=mish\n",
            "\n",
            "[shortcut]\n",
            "from=-3\n",
            "activation=linear\n",
            "\n",
            "\n",
            "[convolutional]\n",
            "batch_normalize=1\n",
            "filters=256\n",
            "size=1\n",
            "stride=1\n",
            "pad=1\n",
            "activation=mish\n",
            "\n",
            "[convolutional]\n",
            "batch_normalize=1\n",
            "filters=256\n",
            "size=3\n",
            "stride=1\n",
            "pad=1\n",
            "activation=mish\n",
            "\n",
            "[shortcut]\n",
            "from=-3\n",
            "activation=linear\n",
            "\n",
            "\n",
            "[convolutional]\n",
            "batch_normalize=1\n",
            "filters=256\n",
            "size=1\n",
            "stride=1\n",
            "pad=1\n",
            "activation=mish\n",
            "\n",
            "[convolutional]\n",
            "batch_normalize=1\n",
            "filters=256\n",
            "size=3\n",
            "stride=1\n",
            "pad=1\n",
            "activation=mish\n",
            "\n",
            "[shortcut]\n",
            "from=-3\n",
            "activation=linear\n",
            "\n",
            "[convolutional]\n",
            "batch_normalize=1\n",
            "filters=256\n",
            "size=1\n",
            "stride=1\n",
            "pad=1\n",
            "activation=mish\n",
            "\n",
            "[convolutional]\n",
            "batch_normalize=1\n",
            "filters=256\n",
            "size=3\n",
            "stride=1\n",
            "pad=1\n",
            "activation=mish\n",
            "\n",
            "[shortcut]\n",
            "from=-3\n",
            "activation=linear\n",
            "\n",
            "[convolutional]\n",
            "batch_normalize=1\n",
            "filters=256\n",
            "size=1\n",
            "stride=1\n",
            "pad=1\n",
            "activation=mish\n",
            "\n",
            "[route]\n",
            "layers = -1,-28\n",
            "\n",
            "[convolutional]\n",
            "batch_normalize=1\n",
            "filters=512\n",
            "size=1\n",
            "stride=1\n",
            "pad=1\n",
            "activation=mish\n",
            "\n",
            "# Downsample\n",
            "\n",
            "[convolutional]\n",
            "batch_normalize=1\n",
            "filters=1024\n",
            "size=3\n",
            "stride=2\n",
            "pad=1\n",
            "activation=mish\n",
            "\n",
            "[convolutional]\n",
            "batch_normalize=1\n",
            "filters=512\n",
            "size=1\n",
            "stride=1\n",
            "pad=1\n",
            "activation=mish\n",
            "\n",
            "[route]\n",
            "layers = -2\n",
            "\n",
            "[convolutional]\n",
            "batch_normalize=1\n",
            "filters=512\n",
            "size=1\n",
            "stride=1\n",
            "pad=1\n",
            "activation=mish\n",
            "\n",
            "[convolutional]\n",
            "batch_normalize=1\n",
            "filters=512\n",
            "size=1\n",
            "stride=1\n",
            "pad=1\n",
            "activation=mish\n",
            "\n",
            "[convolutional]\n",
            "batch_normalize=1\n",
            "filters=512\n",
            "size=3\n",
            "stride=1\n",
            "pad=1\n",
            "activation=mish\n",
            "\n",
            "[shortcut]\n",
            "from=-3\n",
            "activation=linear\n",
            "\n",
            "[convolutional]\n",
            "batch_normalize=1\n",
            "filters=512\n",
            "size=1\n",
            "stride=1\n",
            "pad=1\n",
            "activation=mish\n",
            "\n",
            "[convolutional]\n",
            "batch_normalize=1\n",
            "filters=512\n",
            "size=3\n",
            "stride=1\n",
            "pad=1\n",
            "activation=mish\n",
            "\n",
            "[shortcut]\n",
            "from=-3\n",
            "activation=linear\n",
            "\n",
            "[convolutional]\n",
            "batch_normalize=1\n",
            "filters=512\n",
            "size=1\n",
            "stride=1\n",
            "pad=1\n",
            "activation=mish\n",
            "\n",
            "[convolutional]\n",
            "batch_normalize=1\n",
            "filters=512\n",
            "size=3\n",
            "stride=1\n",
            "pad=1\n",
            "activation=mish\n",
            "\n",
            "[shortcut]\n",
            "from=-3\n",
            "activation=linear\n",
            "\n",
            "[convolutional]\n",
            "batch_normalize=1\n",
            "filters=512\n",
            "size=1\n",
            "stride=1\n",
            "pad=1\n",
            "activation=mish\n",
            "\n",
            "[convolutional]\n",
            "batch_normalize=1\n",
            "filters=512\n",
            "size=3\n",
            "stride=1\n",
            "pad=1\n",
            "activation=mish\n",
            "\n",
            "[shortcut]\n",
            "from=-3\n",
            "activation=linear\n",
            "\n",
            "[convolutional]\n",
            "batch_normalize=1\n",
            "filters=512\n",
            "size=1\n",
            "stride=1\n",
            "pad=1\n",
            "activation=mish\n",
            "\n",
            "[route]\n",
            "layers = -1,-16\n",
            "\n",
            "[convolutional]\n",
            "batch_normalize=1\n",
            "filters=1024\n",
            "size=1\n",
            "stride=1\n",
            "pad=1\n",
            "activation=mish\n",
            "stopbackward=800\n",
            "\n",
            "##########################\n",
            "\n",
            "[convolutional]\n",
            "batch_normalize=1\n",
            "filters=512\n",
            "size=1\n",
            "stride=1\n",
            "pad=1\n",
            "activation=leaky\n",
            "\n",
            "[convolutional]\n",
            "batch_normalize=1\n",
            "size=3\n",
            "stride=1\n",
            "pad=1\n",
            "filters=1024\n",
            "activation=leaky\n",
            "\n",
            "[convolutional]\n",
            "batch_normalize=1\n",
            "filters=512\n",
            "size=1\n",
            "stride=1\n",
            "pad=1\n",
            "activation=leaky\n",
            "\n",
            "### SPP ###\n",
            "[maxpool]\n",
            "stride=1\n",
            "size=5\n",
            "\n",
            "[route]\n",
            "layers=-2\n",
            "\n",
            "[maxpool]\n",
            "stride=1\n",
            "size=9\n",
            "\n",
            "[route]\n",
            "layers=-4\n",
            "\n",
            "[maxpool]\n",
            "stride=1\n",
            "size=13\n",
            "\n",
            "[route]\n",
            "layers=-1,-3,-5,-6\n",
            "### End SPP ###\n",
            "\n",
            "[convolutional]\n",
            "batch_normalize=1\n",
            "filters=512\n",
            "size=1\n",
            "stride=1\n",
            "pad=1\n",
            "activation=leaky\n",
            "\n",
            "[convolutional]\n",
            "batch_normalize=1\n",
            "size=3\n",
            "stride=1\n",
            "pad=1\n",
            "filters=1024\n",
            "activation=leaky\n",
            "\n",
            "[convolutional]\n",
            "batch_normalize=1\n",
            "filters=512\n",
            "size=1\n",
            "stride=1\n",
            "pad=1\n",
            "activation=leaky\n",
            "\n",
            "[convolutional]\n",
            "batch_normalize=1\n",
            "filters=256\n",
            "size=1\n",
            "stride=1\n",
            "pad=1\n",
            "activation=leaky\n",
            "\n",
            "[upsample]\n",
            "stride=2\n",
            "\n",
            "[route]\n",
            "layers = 85\n",
            "\n",
            "[convolutional]\n",
            "batch_normalize=1\n",
            "filters=256\n",
            "size=1\n",
            "stride=1\n",
            "pad=1\n",
            "activation=leaky\n",
            "\n",
            "[route]\n",
            "layers = -1, -3\n",
            "\n",
            "[convolutional]\n",
            "batch_normalize=1\n",
            "filters=256\n",
            "size=1\n",
            "stride=1\n",
            "pad=1\n",
            "activation=leaky\n",
            "\n",
            "[convolutional]\n",
            "batch_normalize=1\n",
            "size=3\n",
            "stride=1\n",
            "pad=1\n",
            "filters=512\n",
            "activation=leaky\n",
            "\n",
            "[convolutional]\n",
            "batch_normalize=1\n",
            "filters=256\n",
            "size=1\n",
            "stride=1\n",
            "pad=1\n",
            "activation=leaky\n",
            "\n",
            "[convolutional]\n",
            "batch_normalize=1\n",
            "size=3\n",
            "stride=1\n",
            "pad=1\n",
            "filters=512\n",
            "activation=leaky\n",
            "\n",
            "[convolutional]\n",
            "batch_normalize=1\n",
            "filters=256\n",
            "size=1\n",
            "stride=1\n",
            "pad=1\n",
            "activation=leaky\n",
            "\n",
            "[convolutional]\n",
            "batch_normalize=1\n",
            "filters=128\n",
            "size=1\n",
            "stride=1\n",
            "pad=1\n",
            "activation=leaky\n",
            "\n",
            "[upsample]\n",
            "stride=2\n",
            "\n",
            "[route]\n",
            "layers = 54\n",
            "\n",
            "[convolutional]\n",
            "batch_normalize=1\n",
            "filters=128\n",
            "size=1\n",
            "stride=1\n",
            "pad=1\n",
            "activation=leaky\n",
            "\n",
            "[route]\n",
            "layers = -1, -3\n",
            "\n",
            "[convolutional]\n",
            "batch_normalize=1\n",
            "filters=128\n",
            "size=1\n",
            "stride=1\n",
            "pad=1\n",
            "activation=leaky\n",
            "\n",
            "[convolutional]\n",
            "batch_normalize=1\n",
            "size=3\n",
            "stride=1\n",
            "pad=1\n",
            "filters=256\n",
            "activation=leaky\n",
            "\n",
            "[convolutional]\n",
            "batch_normalize=1\n",
            "filters=128\n",
            "size=1\n",
            "stride=1\n",
            "pad=1\n",
            "activation=leaky\n",
            "\n",
            "[convolutional]\n",
            "batch_normalize=1\n",
            "size=3\n",
            "stride=1\n",
            "pad=1\n",
            "filters=256\n",
            "activation=leaky\n",
            "\n",
            "[convolutional]\n",
            "batch_normalize=1\n",
            "filters=128\n",
            "size=1\n",
            "stride=1\n",
            "pad=1\n",
            "activation=leaky\n",
            "\n",
            "##########################\n",
            "\n",
            "[convolutional]\n",
            "batch_normalize=1\n",
            "size=3\n",
            "stride=1\n",
            "pad=1\n",
            "filters=256\n",
            "activation=leaky\n",
            "\n",
            "[convolutional]\n",
            "size=1\n",
            "stride=1\n",
            "pad=1\n",
            "filters=48\n",
            "activation=linear\n",
            "\n",
            "\n",
            "[yolo]\n",
            "mask = 0,1,2\n",
            "anchors = 12, 16, 19, 36, 40, 28, 36, 75, 76, 55, 72, 146, 142, 110, 192, 243, 459, 401\n",
            "classes=11\n",
            "num=9\n",
            "jitter=.3\n",
            "ignore_thresh = .7\n",
            "truth_thresh = 1\n",
            "scale_x_y = 1.2\n",
            "iou_thresh=0.213\n",
            "cls_normalizer=1.0\n",
            "iou_normalizer=0.07\n",
            "iou_loss=ciou\n",
            "nms_kind=greedynms\n",
            "beta_nms=0.6\n",
            "max_delta=5\n",
            "\n",
            "\n",
            "[route]\n",
            "layers = -4\n",
            "\n",
            "[convolutional]\n",
            "batch_normalize=1\n",
            "size=3\n",
            "stride=2\n",
            "pad=1\n",
            "filters=256\n",
            "activation=leaky\n",
            "\n",
            "[route]\n",
            "layers = -1, -16\n",
            "\n",
            "[convolutional]\n",
            "batch_normalize=1\n",
            "filters=256\n",
            "size=1\n",
            "stride=1\n",
            "pad=1\n",
            "activation=leaky\n",
            "\n",
            "[convolutional]\n",
            "batch_normalize=1\n",
            "size=3\n",
            "stride=1\n",
            "pad=1\n",
            "filters=512\n",
            "activation=leaky\n",
            "\n",
            "[convolutional]\n",
            "batch_normalize=1\n",
            "filters=256\n",
            "size=1\n",
            "stride=1\n",
            "pad=1\n",
            "activation=leaky\n",
            "\n",
            "[convolutional]\n",
            "batch_normalize=1\n",
            "size=3\n",
            "stride=1\n",
            "pad=1\n",
            "filters=512\n",
            "activation=leaky\n",
            "\n",
            "[convolutional]\n",
            "batch_normalize=1\n",
            "filters=256\n",
            "size=1\n",
            "stride=1\n",
            "pad=1\n",
            "activation=leaky\n",
            "\n",
            "[convolutional]\n",
            "batch_normalize=1\n",
            "size=3\n",
            "stride=1\n",
            "pad=1\n",
            "filters=512\n",
            "activation=leaky\n",
            "\n",
            "[convolutional]\n",
            "size=1\n",
            "stride=1\n",
            "pad=1\n",
            "filters=48\n",
            "activation=linear\n",
            "\n",
            "\n",
            "[yolo]\n",
            "mask = 3,4,5\n",
            "anchors = 12, 16, 19, 36, 40, 28, 36, 75, 76, 55, 72, 146, 142, 110, 192, 243, 459, 401\n",
            "classes=11\n",
            "num=9\n",
            "jitter=.3\n",
            "ignore_thresh = .7\n",
            "truth_thresh = 1\n",
            "scale_x_y = 1.1\n",
            "iou_thresh=0.213\n",
            "cls_normalizer=1.0\n",
            "iou_normalizer=0.07\n",
            "iou_loss=ciou\n",
            "nms_kind=greedynms\n",
            "beta_nms=0.6\n",
            "max_delta=5\n",
            "\n",
            "\n",
            "[route]\n",
            "layers = -4\n",
            "\n",
            "[convolutional]\n",
            "batch_normalize=1\n",
            "size=3\n",
            "stride=2\n",
            "pad=1\n",
            "filters=512\n",
            "activation=leaky\n",
            "\n",
            "[route]\n",
            "layers = -1, -37\n",
            "\n",
            "[convolutional]\n",
            "batch_normalize=1\n",
            "filters=512\n",
            "size=1\n",
            "stride=1\n",
            "pad=1\n",
            "activation=leaky\n",
            "\n",
            "[convolutional]\n",
            "batch_normalize=1\n",
            "size=3\n",
            "stride=1\n",
            "pad=1\n",
            "filters=1024\n",
            "activation=leaky\n",
            "\n",
            "[convolutional]\n",
            "batch_normalize=1\n",
            "filters=512\n",
            "size=1\n",
            "stride=1\n",
            "pad=1\n",
            "activation=leaky\n",
            "\n",
            "[convolutional]\n",
            "batch_normalize=1\n",
            "size=3\n",
            "stride=1\n",
            "pad=1\n",
            "filters=1024\n",
            "activation=leaky\n",
            "\n",
            "[convolutional]\n",
            "batch_normalize=1\n",
            "filters=512\n",
            "size=1\n",
            "stride=1\n",
            "pad=1\n",
            "activation=leaky\n",
            "\n",
            "[convolutional]\n",
            "batch_normalize=1\n",
            "size=3\n",
            "stride=1\n",
            "pad=1\n",
            "filters=1024\n",
            "activation=leaky\n",
            "\n",
            "[convolutional]\n",
            "size=1\n",
            "stride=1\n",
            "pad=1\n",
            "filters=48\n",
            "activation=linear\n",
            "\n",
            "\n",
            "[yolo]\n",
            "mask = 6,7,8\n",
            "anchors = 12, 16, 19, 36, 40, 28, 36, 75, 76, 55, 72, 146, 142, 110, 192, 243, 459, 401\n",
            "classes=11\n",
            "num=9\n",
            "jitter=.3\n",
            "ignore_thresh = .7\n",
            "truth_thresh = 1\n",
            "random=1\n",
            "scale_x_y = 1.05\n",
            "iou_thresh=0.213\n",
            "cls_normalizer=1.0\n",
            "iou_normalizer=0.07\n",
            "iou_loss=ciou\n",
            "nms_kind=greedynms\n",
            "beta_nms=0.6\n",
            "max_delta=5\n"
          ]
        }
      ],
      "source": [
        "# 변경사항이 반영이 되었는지 확인하여보자.\n",
        "%cat /content/darknet/cfg/yolov4-custom.cfg"
      ]
    },
    {
      "cell_type": "code",
      "execution_count": null,
      "metadata": {
        "colab": {
          "base_uri": "https://localhost:8080/"
        },
        "id": "YFN31X_PU27H",
        "outputId": "040a69b6-207f-4fd3-e417-651fd7c00115"
      },
      "outputs": [
        {
          "output_type": "stream",
          "name": "stdout",
          "text": [
            "/content/darknet/cfg\n",
            "/content/darknet\n"
          ]
        }
      ],
      "source": [
        "#set your custom cfg to test mode \n",
        "%cd /content/darknet/cfg\n",
        "!sed -i 's/batch=64/batch=1/' yolov4-custom.cfg\n",
        "!sed -i 's/subdivisions=16/subdivisions=1/' yolov4-custom.cfg\n",
        "%cd .."
      ]
    },
    {
      "cell_type": "code",
      "execution_count": null,
      "metadata": {
        "colab": {
          "base_uri": "https://localhost:8080/"
        },
        "id": "3bH6Eol-x6xJ",
        "outputId": "6fc56e3c-ff00-44db-e3cd-54c706cad05e"
      },
      "outputs": [
        {
          "output_type": "stream",
          "name": "stdout",
          "text": [
            "classes = 11\n",
            "train = data/train.txt\n",
            "valid = data/valid.txt\n",
            "test = data/test.txt\n",
            "names = data/ClassNames.names\n",
            "backup = backup/"
          ]
        }
      ],
      "source": [
        "%cat /content/darknet/data/fire_data.data"
      ]
    },
    {
      "cell_type": "markdown",
      "metadata": {
        "id": "bA_wY1RmvNr1"
      },
      "source": [
        "## 5) darknet 구축"
      ]
    },
    {
      "cell_type": "code",
      "execution_count": null,
      "metadata": {
        "id": "FGNvNdcX9rGp"
      },
      "outputs": [],
      "source": [
        "# GPU, OPENCV, LIBSO을 true로 설정\n",
        "!sed -i 's/OPENCV=0/OPENCV=1/' Makefile\n",
        "!sed -i 's/GPU=0/GPU=1/' Makefile\n",
        "!sed -i 's/CUDNN=0/CUDNN=1/' Makefile\n",
        "!sed -i 's/CUDNN_HALF=0/CUDNN_HALF=1/' Makefile\n",
        "!sed -i 's/LIBSO=0/LIBSO=1/' Makefile"
      ]
    },
    {
      "cell_type": "code",
      "execution_count": null,
      "metadata": {
        "id": "a5ogzikW9wk6"
      },
      "outputs": [],
      "source": [
        "# 위의 변경된 옵션으로 makefile을 컴파일하면 darknet.py 사용이 가능해진다.\n",
        "!make"
      ]
    },
    {
      "cell_type": "markdown",
      "metadata": {
        "id": "F5o5Gs75ZuMv"
      },
      "source": [
        "## 2) Darknet for Python\n",
        "\n"
      ]
    },
    {
      "cell_type": "code",
      "execution_count": null,
      "metadata": {
        "colab": {
          "base_uri": "https://localhost:8080/"
        },
        "id": "Pb34-bnO7Jmz",
        "outputId": "ba4edde7-ffb0-47a0-aee0-b45985575d60"
      },
      "outputs": [
        {
          "output_type": "stream",
          "name": "stdout",
          "text": [
            "/content/darknet\n"
          ]
        }
      ],
      "source": [
        "!pwd"
      ]
    },
    {
      "cell_type": "code",
      "execution_count": null,
      "metadata": {
        "id": "f8CkEes4Oa8H"
      },
      "outputs": [],
      "source": [
        "from darknet import *"
      ]
    },
    {
      "cell_type": "code",
      "execution_count": null,
      "metadata": {
        "id": "7t9f-SfqITCR"
      },
      "outputs": [],
      "source": [
        "# YOLOv4 모델을 로드하여보자.\n",
        "# 커스텀 모델을 사용할 경우 load_network의 1번째, 3번째 인자를 수정해야 한다.\n",
        "network, class_names, class_colors = load_network(\"cfg/yolov4-custom.cfg\", \"data/fire_data.data\", \"data/yolov4-custom_best_1.weights\")"
      ]
    },
    {
      "cell_type": "markdown",
      "metadata": {
        "id": "pVj-k2PZlm3e"
      },
      "source": [
        "    (참고)\n",
        "    .cfg 파일은 다양한 프로그램 환경에서 각자의 소프트웨어에 특정한 설정을 저장하는 데 사용되는 파일 형식"
      ]
    },
    {
      "cell_type": "markdown",
      "metadata": {
        "id": "Nw4FjH94WjeH"
      },
      "source": [
        "![image.png](data:image/png;base64,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)"
      ]
    },
    {
      "cell_type": "markdown",
      "metadata": {
        "id": "gu-6GSbqWl07"
      },
      "source": [
        "* darknet.py 파일을 확인해보면 load_network 함수의 1번째 인자는 config file, 2번째 인자는 data file, 3번째 인자는 weights에 해당하는 것을 알 수 있다.\n",
        "* 또한 load_network 함수는 학습된 모델(=network), class 이름(=class names), class 별 고유 색상(=class colors)를 반환하는 것을 알 수 있다.\n",
        "* class colors는 이후 boundary box를 이미지 위에 시각화할 때 사용할 색상이다."
      ]
    },
    {
      "cell_type": "code",
      "execution_count": null,
      "metadata": {
        "colab": {
          "base_uri": "https://localhost:8080/"
        },
        "id": "7ixeRtYvWFD3",
        "outputId": "5297571e-7b62-4638-ee4b-55d7a707b125"
      },
      "outputs": [
        {
          "output_type": "execute_result",
          "data": {
            "text/plain": [
              "['00_Not_related',\n",
              " '01_Black_smoke',\n",
              " '02_Gray_smoke ',\n",
              " '03_White_smoke',\n",
              " '04_Fire',\n",
              " '05_Cloud',\n",
              " '06_Fog',\n",
              " '07_Light',\n",
              " '08_Sunlight',\n",
              " '09_Wobbling_object',\n",
              " '10_Leaves_&_grasses']"
            ]
          },
          "metadata": {},
          "execution_count": 91
        }
      ],
      "source": [
        "# class의 종류 예시\n",
        "class_names"
      ]
    },
    {
      "cell_type": "code",
      "execution_count": null,
      "metadata": {
        "colab": {
          "base_uri": "https://localhost:8080/",
          "height": 193
        },
        "id": "rz3DW70YWM6H",
        "outputId": "dede7b9b-db17-4342-8154-b5696f930cd6"
      },
      "outputs": [
        {
          "output_type": "error",
          "ename": "KeyError",
          "evalue": "ignored",
          "traceback": [
            "\u001b[0;31m---------------------------------------------------------------------------\u001b[0m",
            "\u001b[0;31mKeyError\u001b[0m                                  Traceback (most recent call last)",
            "\u001b[0;32m<ipython-input-92-61e5f018b2e1>\u001b[0m in \u001b[0;36m<module>\u001b[0;34m\u001b[0m\n\u001b[1;32m      1\u001b[0m \u001b[0;31m# class color의 예시\u001b[0m\u001b[0;34m\u001b[0m\u001b[0;34m\u001b[0m\u001b[0;34m\u001b[0m\u001b[0m\n\u001b[0;32m----> 2\u001b[0;31m \u001b[0mclass_colors\u001b[0m\u001b[0;34m[\u001b[0m\u001b[0;34m'01'\u001b[0m\u001b[0;34m]\u001b[0m\u001b[0;34m\u001b[0m\u001b[0;34m\u001b[0m\u001b[0m\n\u001b[0m",
            "\u001b[0;31mKeyError\u001b[0m: '01'"
          ]
        }
      ],
      "source": [
        "# class color의 예시\n",
        "class_colors['01']"
      ]
    },
    {
      "cell_type": "markdown",
      "metadata": {
        "id": "mLMQN-5bYWfW"
      },
      "source": [
        "![image.png](data:image/png;base64,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)"
      ]
    },
    {
      "cell_type": "markdown",
      "metadata": {
        "id": "SEvfxhkhYZma"
      },
      "source": [
        "* 3가지의 값은 각각 B(Black), G(Green), R(Red)에 해당하는 것은 알 수 있다.\n",
        "* 또한 색상은 랜덤하게 배정이 되었으며, 딕셔너리 형태로 클래스 별 생상 데이터가 저장되었음을 알 수 있다.\n",
        "* 참고: OpenCV는 일반적인 RGB 순서가 아닌 BGR을 사용한다."
      ]
    },
    {
      "cell_type": "code",
      "execution_count": null,
      "metadata": {
        "colab": {
          "base_uri": "https://localhost:8080/"
        },
        "id": "xZOIZBiRXdqM",
        "outputId": "647b326d-7d0d-4ca0-c2b4-a4c76a9e2bb2"
      },
      "outputs": [
        {
          "output_type": "stream",
          "name": "stdout",
          "text": [
            "608 608\n"
          ]
        }
      ],
      "source": [
        "# 네트워크의 width와 height을 계산\n",
        "width = network_width(network)\n",
        "height = network_height(network)\n",
        "\n",
        "print(width, height)"
      ]
    },
    {
      "cell_type": "code",
      "execution_count": null,
      "metadata": {
        "id": "JhrQqPc2HR27"
      },
      "outputs": [],
      "source": [
        "# object detection을 수행하는 darknet_helper 함수를 살펴보자.\n",
        "\n",
        "def darknet_helper(img, width, height):\n",
        "  # 이미지를 darknet style로 전처리 -> darknet_image 변수에 저장\n",
        "  darknet_image = make_image(width, height, 3)\n",
        "  # input image를 BRG에서 RGB 순서로 변환\n",
        "  img_rgb = cv2.cvtColor(img, cv2.COLOR_BGR2RGB)\n",
        "  # input image의 size를 512x512로 변환 (network에서 받아들이는 이미지의 크기가 512x512였기 때문에)\n",
        "  img_resized = cv2.resize(img_rgb, (width, height),\n",
        "                              interpolation=cv2.INTER_LINEAR)\n",
        "\n",
        "  # bounding box의 크기를 조정하기 위하여 이미지 크기 비율을 계산 \n",
        "  img_height, img_width, _ = img.shape\n",
        "  width_ratio = img_width/width # 원본 이미지 width/ network width\n",
        "  height_ratio = img_height/height # 원본 이미지 height/ network height\n",
        "\n",
        "  # darknet stlye로 전처리된 이미지로 모델을 작동시켜 detection을 수행\n",
        "  copy_image_from_bytes(darknet_image, img_resized.tobytes())\n",
        "  # detect_image 함수 실행\n",
        "  detections = detect_image(network, class_names, darknet_image)\n",
        "  free_image(darknet_image)\n",
        "\n",
        "  return detections, width_ratio, height_ratio"
      ]
    },
    {
      "cell_type": "code",
      "execution_count": null,
      "metadata": {
        "id": "HhItX42Axpmy"
      },
      "outputs": [],
      "source": [
        "# 파일 업로드 기능 실행\n",
        "files.upload()"
      ]
    },
    {
      "cell_type": "markdown",
      "metadata": {
        "id": "wqheAsjd2qtc"
      },
      "source": [
        "`cv2.imread(이미지 경로, 모드)`\n",
        "* 이미지를 BGR 형식으로 읽는 함수이다.\n",
        "*  모드로는 IMREAD_UNCHAGNED (=원본), IMREAD_GRAYSCALE(=흑백), IMREAD_COLOR (=BGR 이미지), IMREAD_REDUCED_GRAYSCALE_2 (=2/1 크기의 흑백 이미지) 등이 있다. (기본 값 = IMREAD_UNCHAGED)\n"
      ]
    },
    {
      "cell_type": "markdown",
      "metadata": {
        "id": "CG_jUn0lQY4G"
      },
      "source": [
        "`matplotlib.pyplot.imshow(RGB 데이터 또는 2d scalaer 데이터)`\n",
        "\n",
        "* imread() 함수를 사용하여 jpg 등 이미지 파일을 읽어온 후, imshow() 함수를 사용하여 이미지를 출력할 수 있다.\n"
      ]
    },
    {
      "cell_type": "code",
      "execution_count": null,
      "metadata": {
        "colab": {
          "base_uri": "https://localhost:8080/",
          "height": 223
        },
        "id": "CfHG1Sim1rp0",
        "outputId": "30093ddf-fa0e-4d24-fedb-9869fb50254d"
      },
      "outputs": [
        {
          "data": {
            "image/png": "[encoded data removed]",
            "text/plain": [
              "<Figure size 432x288 with 1 Axes>"
            ]
          },
          "metadata": {},
          "output_type": "display_data"
        }
      ],
      "source": [
        "# 이미지 불러오기\n",
        "image = cv2.imread('/content/darknet/S3-N1213MF02382.jpg')\n",
        "#RGB 이미지를 BGR로 변환\n",
        "imagee = cv2.cvtColor(image, cv2.COLOR_RGB2BGR)\n",
        "# 이미지 출력\n",
        "plt.imshow(imagee) \n",
        "plt.xticks([]) # x축 눈금 (빈칸으로 두어 아무것도 표기되지 않도록 함)\n",
        "plt.yticks([]) # y축 눈금 (빈칸으로 두어 아무것도 표기되지 않도록 함)\n",
        "plt.show() "
      ]
    },
    {
      "cell_type": "markdown",
      "metadata": {
        "id": "ymeEhEnFbsdm"
      },
      "source": [
        "## 3) YOLOv4 Example on Test Image\n"
      ]
    },
    {
      "cell_type": "code",
      "execution_count": null,
      "metadata": {
        "id": "1vCQyRkRRZ7t"
      },
      "outputs": [],
      "source": [
        "# darknet_helper 함수에 앞서 읽은 이미지와 network height, width를 입력\n",
        "detections, width_ratio, height_ratio = darknet_helper(imagee, width, height)"
      ]
    },
    {
      "cell_type": "code",
      "execution_count": null,
      "metadata": {
        "colab": {
          "base_uri": "https://localhost:8080/"
        },
        "id": "T5f4-sd8TMqI",
        "outputId": "c51cc2fb-f7f5-451a-8b48-8aee985239aa"
      },
      "outputs": [
        {
          "data": {
            "text/plain": [
              "[('05_Cloud',\n",
              "  '1.18',\n",
              "  (302.86029052734375,\n",
              "   209.72738647460938,\n",
              "   702.46533203125,\n",
              "   401.2769470214844)),\n",
              " ('05_Cloud',\n",
              "  '1.32',\n",
              "  (496.3019104003906,\n",
              "   236.82522583007812,\n",
              "   227.73007202148438,\n",
              "   535.3541870117188)),\n",
              " ('06_Fog',\n",
              "  '1.35',\n",
              "  (496.1328125, 214.4936981201172, 241.14578247070312, 482.9804992675781)),\n",
              " ('00_Not_related',\n",
              "  '1.41',\n",
              "  (281.0671081542969,\n",
              "   585.0006713867188,\n",
              "   166.272705078125,\n",
              "   44.872432708740234)),\n",
              " ('05_Cloud',\n",
              "  '1.62',\n",
              "  (210.2922821044922, 271.993896484375, 397.3668212890625, 343.4483947753906)),\n",
              " ('05_Cloud',\n",
              "  '1.82',\n",
              "  (304.4147644042969,\n",
              "   79.34606170654297,\n",
              "   700.7957763671875,\n",
              "   147.92990112304688)),\n",
              " ('06_Fog',\n",
              "  '2.96',\n",
              "  (303.84820556640625,\n",
              "   56.43797302246094,\n",
              "   685.97802734375,\n",
              "   105.83500671386719)),\n",
              " ('08_Sunlight',\n",
              "  '6.61',\n",
              "  (496.3019104003906,\n",
              "   236.82522583007812,\n",
              "   227.73007202148438,\n",
              "   535.3541870117188))]"
            ]
          },
          "execution_count": 70,
          "metadata": {},
          "output_type": "execute_result"
        }
      ],
      "source": [
        "# detection 결과 확인\n",
        "detections"
      ]
    },
    {
      "cell_type": "markdown",
      "metadata": {
        "id": "IstENOzmTT9T"
      },
      "source": [
        "* 튜플 형태 (\"클래스 이름\", class confidence, bounding box)로 결과가 저장된 것을 확인할 수 있다.\n",
        "* bounding box로 나온 4가지 수치는 center x, center y, width, height에 해당한다. "
      ]
    },
    {
      "cell_type": "code",
      "execution_count": null,
      "metadata": {
        "colab": {
          "base_uri": "https://localhost:8080/"
        },
        "id": "jkhdK13qs3mr",
        "outputId": "ec0fb460-2de4-4428-a6e1-c2e213895cd6"
      },
      "outputs": [
        {
          "data": {
            "text/plain": [
              "(0.8585526315789473, 1.106907894736842)"
            ]
          },
          "execution_count": 71,
          "metadata": {},
          "output_type": "execute_result"
        }
      ],
      "source": [
        "width_ratio, height_ratio"
      ]
    },
    {
      "cell_type": "markdown",
      "metadata": {
        "id": "BzoB2P6_3KZF"
      },
      "source": [
        "`cv2.rectangle(image, start, end, color, thickness)`\n",
        "* 이미지에 start와 end를 연결하는 사각형을 그린다.\n",
        "* image는 사각형을 그릴 이미지를 입력하는 인자이다.\n",
        "* start는 top-left corner의 좌표를 입력하는 인자이다.\n",
        "* end는 bottom-right corner의 좌표를 입력하는 인자이다."
      ]
    },
    {
      "cell_type": "markdown",
      "metadata": {
        "id": "mMlGHxIZ4Ju6"
      },
      "source": [
        "`cv2.putText(img, text, org, font, fontSacle, color)`\n",
        "* 이미지에 text를 입력한다.\n",
        "* text는 텍스트를 입력하는 인자이다.\n",
        "* org는 테스트를 표시할 위치를 입력하는 인자로 문자열의 bottom-left corner 좌표를 입력한다."
      ]
    },
    {
      "cell_type": "code",
      "execution_count": null,
      "metadata": {
        "colab": {
          "background_save": true
        },
        "id": "KiiKMe8oTKbK"
      },
      "outputs": [],
      "source": [
        "# detection 결과 시각화\n",
        "\n",
        "for label, confidence, bbox in detections:\n",
        "  # center x, center y, width, height로 반환 받은 boundary box를 corner 정보 (left, top, right, bottom)로 변환\n",
        "  left, top, right, bottom = bbox2points(bbox)\n",
        "  # 앞서 계산한 이미지 비율을 사용하여 boundary box의 크기를 조정\n",
        "  left, top, right, bottom = int(left * width_ratio), int(top * height_ratio), int(right * width_ratio), int(bottom * height_ratio)\n",
        "  # boundary box 좌표에 해당하는 사각형을 이미지 위에 그림\n",
        "  cv2.rectangle(imagee, (left, top), (right, bottom), class_colors[label], 2)\n",
        "  # 클래스 이름과 confidence level을 사각형 위에 입력\n",
        "  cv2.putText(imagee, \"{} [{:.2f}]\".format(label, float(confidence)),\n",
        "                    (left, top - 5), cv2.FONT_HERSHEY_SIMPLEX, 0.5,\n",
        "                    class_colors[label], 2)\n",
        "\n",
        "# boundary box를 추가한 이미지 출력\n",
        "#RGB 이미지를 BGR로 변환\n",
        "image = cv2.cvtColor(imagee, cv2.COLOR_RGB2BGR)\n",
        "cv2_imshow(image)"
      ]
    },
    {
      "cell_type": "code",
      "source": [],
      "metadata": {
        "id": "MgJlLHZqr1Fx"
      },
      "execution_count": null,
      "outputs": []
    },
    {
      "cell_type": "markdown",
      "metadata": {
        "id": "fb5iS6s5Ua6X"
      },
      "source": [
        "![image.png](data:image/png;base64,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)"
      ]
    },
    {
      "cell_type": "markdown",
      "metadata": {
        "id": "WTgjLwLg5GxG"
      },
      "source": [
        "* center x, center y, width, height로 반환 받은 boundary box를 corner 정보로 변환하는 함수는 위와 같다. "
      ]
    },
    {
      "cell_type": "markdown",
      "metadata": {
        "id": "TMxnV9kt1Yti"
      },
      "source": [
        "## 4) Helper Functions\n",
        "\n"
      ]
    },
    {
      "cell_type": "markdown",
      "metadata": {
        "id": "EPlOpf-yldwn"
      },
      "source": [
        "* 웹캠을 구글 코랩에서 사용하기 위해서는 Javascript 코드를 실행하여야 한다. 따라서 OpenCV 파일을 Javascript 객체로 변환하고 그 반대로도 변환하는 함수를 생성하여 보자.\n",
        "* 웹캠은 Javascript 코드를 사용하는 반면, bounding box는 OpenCV 형식이다."
      ]
    },
    {
      "cell_type": "markdown",
      "metadata": {
        "id": "gRTtKsPt67KW"
      },
      "source": [
        "`base64.b64decode(s, altchars=None, validate=False)`\n",
        "\n",
        "* Base64로 인코딩된 바이트열류 객체나 ASCII 문자열 s를 디코딩하고 디코딩된 bytes를 반환한다."
      ]
    },
    {
      "cell_type": "code",
      "execution_count": null,
      "metadata": {
        "id": "7Zg82Yi292ku"
      },
      "outputs": [],
      "source": [
        "# JavaScript 객체를 OpenCV 이미지 유형으로 변환\n",
        "def js_to_image(js_reply):\n",
        "  \"\"\"\n",
        "  파라미터:\n",
        "          js_reply: JavaScript 객체 (Base64 진법의 문자열)\n",
        "  반환:\n",
        "          img:  OpenCV BGR 이미지 (넘파이 배열로 이루어진 사각형 정보) \n",
        "  \"\"\"\n",
        "\n",
        "  # 64진법으로 인코딩된 Javascript 객체를 바이트로 디코딩 \n",
        "  image_bytes = b64decode(js_reply.split(',')[1])\n",
        "  # 바이트를 넘파이 배열로 변환\n",
        "  jpg_as_np = np.frombuffer(image_bytes, dtype=np.uint8)\n",
        "  # 넘파이 배열을 OpenCV BGR 이미지로 변환\n",
        "  img = cv2.imdecode(jpg_as_np, flags=1)\n",
        "\n",
        "  return img"
      ]
    },
    {
      "cell_type": "markdown",
      "metadata": {
        "id": "pQTyvBEvi1T1"
      },
      "source": [
        "`.save(fp, format=None)`\n",
        "* PIL 형식의 이미지를 저장한다. \n",
        "* fp: 파일명/파일 주소/파일 객체\n",
        "* format: 파일 저장 형식, 아무 입력이 없을 경우 파일명에 포함된 파일 형식으로 저장된다. fp에 파일명 대신 파일 객체가 입력되었을 경우 format 형식을 명시하는 것이 필수적이다. "
      ]
    },
    {
      "cell_type": "code",
      "execution_count": null,
      "metadata": {
        "id": "kRC6d_m350r4"
      },
      "outputs": [],
      "source": [
        "# OpenCV 사각형(Bounding Box) 이미지를 JavaScript 객체로 변환\n",
        "def bbox_to_bytes(bbox_array):\n",
        "  \"\"\"\n",
        "  파라미터:\n",
        "          bbox_array: OpenCV BGR 이미지 (넘파이 배열로 이루어진 사각형 정보) \n",
        "  반환:\n",
        "        바이트: JavaScript 객체 (Base64 진법의 문자열)\n",
        "  \"\"\"\n",
        "  # 넘파일 배열을 PIL(Python Image Library) 이미지로 변환 \n",
        "  bbox_PIL = PIL.Image.fromarray(bbox_array, 'RGBA')\n",
        "  # 문자열(바이트 배열)을 이진 파일로 읽을 수 있는 BytesIO 객체 생성\n",
        "  iobuf = io.BytesIO()\n",
        "  # PIL 이미지 형태의 boundary box를 png 파일로 변환하여 저장 \n",
        "  bbox_PIL.save(iobuf, format='png')\n",
        "  # JavaScript 객체 반환\n",
        "  bbox_bytes = 'data:image/png;base64,{}'.format((str(b64encode(iobuf.getvalue()), 'utf-8')))\n",
        "\n",
        "  return bbox_bytes"
      ]
    },
    {
      "cell_type": "markdown",
      "metadata": {
        "id": "zOuLa-Hc4cvd"
      },
      "source": [
        "## YOLOv4 on Wecam Images\n",
        "\n",
        " "
      ]
    },
    {
      "cell_type": "markdown",
      "metadata": {
        "id": "7k5tyQ78U-oF"
      },
      "source": [
        "코드 스니펫\n",
        "\n",
        "![image.png](data:image/png;base64,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)"
      ]
    },
    {
      "cell_type": "markdown",
      "metadata": {
        "id": "ogO4KM4KXC1l"
      },
      "source": [
        "`eval_js()`\n",
        "* 자바 스크립트 함수를 실행한다.\n",
        "* 이를 통해 파이썬 내부에서 바로 사용할 수 있다."
      ]
    },
    {
      "cell_type": "code",
      "execution_count": null,
      "metadata": {
        "id": "z4k7CW_s-V9A"
      },
      "outputs": [],
      "source": [
        "def take_photo(filename='photo.jpg', quality=0.8):\n",
        "\n",
        "  # 자바스크립트를 사용하여 local webcam에 access \n",
        "  js = Javascript('''\n",
        "    async function takePhoto(quality) {\n",
        "      const div = document.createElement('div');\n",
        "      const capture = document.createElement('button');\n",
        "      capture.textContent = 'Capture';\n",
        "      div.appendChild(capture);\n",
        "\n",
        "      const video = document.createElement('video');\n",
        "      video.style.display = 'block';\n",
        "      const stream = await navigator.mediaDevices.getUserMedia({video: true});\n",
        "\n",
        "      document.body.appendChild(div);\n",
        "      div.appendChild(video);\n",
        "      video.srcObject = stream;\n",
        "      await video.play();\n",
        "\n",
        "      // 결과를 resize\n",
        "      google.colab.output.setIframeHeight(document.documentElement.scrollHeight, true);\n",
        "\n",
        "      // 클릭하여 이미지 캡쳐\n",
        "      await new Promise((resolve) => capture.onclick = resolve);\n",
        "\n",
        "      const canvas = document.createElement('canvas');\n",
        "      canvas.width = video.videoWidth;\n",
        "      canvas.height = video.videoHeight;\n",
        "      canvas.getContext('2d').drawImage(video, 0, 0);\n",
        "      stream.getVideoTracks()[0].stop();\n",
        "      div.remove();\n",
        "      return canvas.toDataURL('image/jpeg', quality);\n",
        "    }\n",
        "    ''')\n",
        "  display(js)\n",
        "\n",
        "  # YOLO v4 detection 수행\n",
        "\n",
        "  # javascrip 이미지를 입력\n",
        "  data = eval_js('takePhoto({})'.format(quality))\n",
        "  # OpenCV 형식의 이미지로 변환\n",
        "  img = js_to_image(data) \n",
        "  \n",
        "  # 앞서 정의했던 darknet helper 함수에 웹캠 이미지를 삽입\n",
        "  detections, width_ratio, height_ratio = darknet_helper(img, width, height)\n",
        "\n",
        "  # detection을 통해 얻은 boundary boxes를 웹캠 이미지에 표시\n",
        "  for label, confidence, bbox in detections:\n",
        "    left, top, right, bottom = bbox2points(bbox)\n",
        "    left, top, right, bottom = int(left * width_ratio), int(top * height_ratio), int(right * width_ratio), int(bottom * height_ratio)\n",
        "    cv2.rectangle(img, (left, top), (right, bottom), class_colors[label], 2)\n",
        "    cv2.putText(img, \"{} [{:.2f}]\".format(label, float(confidence)),\n",
        "                      (left, top - 5), cv2.FONT_HERSHEY_SIMPLEX, 0.5,\n",
        "                      class_colors[label], 2)\n",
        "  # 이미지를 저장\n",
        "  cv2.imwrite(filename, img)\n",
        "\n",
        "  return filename"
      ]
    },
    {
      "cell_type": "markdown",
      "metadata": {
        "id": "7NhCPTDaacEI"
      },
      "source": [
        "* take_photo 실행 시 웹캠 권한을 묻는 메시지가 뜬다.\n",
        "\n",
        "![image.png](data:image/png;base64,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)"
      ]
    },
    {
      "cell_type": "markdown",
      "metadata": {
        "id": "hlKjBpOtgVCS"
      },
      "source": [
        "* 허용 버튼을 클릭하면 웹캠 이미지와 캡쳐 버튼이 생성된다."
      ]
    },
    {
      "cell_type": "markdown",
      "metadata": {
        "id": "e2gZ_Bi3iCVB"
      },
      "source": [
        "![image.png](data:image/png;base64,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)"
      ]
    },
    {
      "cell_type": "markdown",
      "metadata": {
        "id": "r4j-Wl_95e0Z"
      },
      "source": [
        "*이탤릭체 텍스트*## YOLOv4 on Webcam Videos\n",
        "\n",
        "\n",
        "\n"
      ]
    },
    {
      "cell_type": "markdown",
      "metadata": {
        "id": "hbeStmJkl5Nb"
      },
      "source": [
        "아래는 영상 스트리밍을 실행하는 자바스크립트 코드이다. 영상의 프레임은 YOLOv4의 입력으로 주어지게 된다."
      ]
    },
    {
      "cell_type": "code",
      "source": [],
      "metadata": {
        "id": "y-B2Gu4x3SiR"
      },
      "execution_count": null,
      "outputs": []
    },
    {
      "cell_type": "code",
      "execution_count": null,
      "metadata": {
        "colab": {
          "base_uri": "https://localhost:8080/"
        },
        "id": "KUEx-mGGMzFP",
        "outputId": "4c1fe4b0-686b-48da-a9c3-a74229daa5e8"
      },
      "outputs": [
        {
          "output_type": "stream",
          "name": "stdout",
          "text": [
            "Cloning into 'tensorflow-yolov4-tflite'...\n",
            "remote: Enumerating objects: 912, done.\u001b[K\n",
            "remote: Total 912 (delta 0), reused 0 (delta 0), pack-reused 912\u001b[K\n",
            "Receiving objects: 100% (912/912), 211.46 MiB | 20.12 MiB/s, done.\n",
            "Resolving deltas: 100% (441/441), done.\n"
          ]
        }
      ],
      "source": [
        "!git clone https://github.com/theAIGuysCode/tensorflow-yolov4-tflite"
      ]
    },
    {
      "cell_type": "code",
      "execution_count": null,
      "metadata": {
        "colab": {
          "base_uri": "https://localhost:8080/"
        },
        "id": "SUnb_emfM2vr",
        "outputId": "b2b4252e-26c9-4b8f-8037-ce45b08e3d70"
      },
      "outputs": [
        {
          "output_type": "stream",
          "name": "stdout",
          "text": [
            "/content/darknet/tensorflow-yolov4-tflite\n"
          ]
        }
      ],
      "source": [
        "%cd /content/darknet/tensorflow-yolov4-tflite"
      ]
    },
    {
      "cell_type": "code",
      "execution_count": null,
      "metadata": {
        "colab": {
          "base_uri": "https://localhost:8080/",
          "height": 1000
        },
        "id": "i8umwrZ0NG0z",
        "outputId": "7df7d4fe-fd84-42b3-cdef-57d7a97aa862"
      },
      "outputs": [
        {
          "output_type": "stream",
          "name": "stdout",
          "text": [
            "Looking in indexes: https://pypi.org/simple, https://us-python.pkg.dev/colab-wheels/public/simple/\n",
            "Collecting tensorflow-gpu==2.8.0rc0\n",
            "\u001b[33m  WARNING: Retrying (Retry(total=4, connect=None, read=None, redirect=None, status=None)) after connection broken by 'ReadTimeoutError(\"HTTPSConnectionPool(host='files.pythonhosted.org', port=443): Read timed out. (read timeout=15)\")': /packages/d2/4c/056511543928ba9e4d5e266c63f400e068d34646fb6fc6a10201d39efa6e/tensorflow_gpu-2.8.0rc0-cp37-cp37m-manylinux2010_x86_64.whl\u001b[0m\n",
            "  Downloading tensorflow_gpu-2.8.0rc0-cp37-cp37m-manylinux2010_x86_64.whl (492.1 MB)\n",
            "\u001b[K     |████████████████████████████████| 492.1 MB 11 kB/s \n",
            "\u001b[?25hCollecting opencv-python==4.1.1.26\n",
            "  Downloading opencv_python-4.1.1.26-cp37-cp37m-manylinux1_x86_64.whl (28.7 MB)\n",
            "\u001b[K     |████████████████████████████████| 28.7 MB 107.5 MB/s \n",
            "\u001b[?25hRequirement already satisfied: lxml in /usr/local/lib/python3.7/dist-packages (from -r requirements-gpu.txt (line 3)) (4.9.1)\n",
            "Requirement already satisfied: tqdm in /usr/local/lib/python3.7/dist-packages (from -r requirements-gpu.txt (line 4)) (4.64.0)\n",
            "Requirement already satisfied: absl-py in /usr/local/lib/python3.7/dist-packages (from -r requirements-gpu.txt (line 5)) (1.2.0)\n",
            "Requirement already satisfied: matplotlib in /usr/local/lib/python3.7/dist-packages (from -r requirements-gpu.txt (line 6)) (3.2.2)\n",
            "Requirement already satisfied: easydict in /usr/local/lib/python3.7/dist-packages (from -r requirements-gpu.txt (line 7)) (1.9)\n",
            "Requirement already satisfied: pillow in /usr/local/lib/python3.7/dist-packages (from -r requirements-gpu.txt (line 8)) (7.1.2)\n",
            "Requirement already satisfied: grpcio<2.0,>=1.24.3 in /usr/local/lib/python3.7/dist-packages (from tensorflow-gpu==2.8.0rc0->-r requirements-gpu.txt (line 1)) (1.47.0)\n",
            "Requirement already satisfied: numpy>=1.14.5 in /usr/local/lib/python3.7/dist-packages (from tensorflow-gpu==2.8.0rc0->-r requirements-gpu.txt (line 1)) (1.21.6)\n",
            "Requirement already satisfied: libclang>=9.0.1 in /usr/local/lib/python3.7/dist-packages (from tensorflow-gpu==2.8.0rc0->-r requirements-gpu.txt (line 1)) (14.0.6)\n",
            "Collecting tensorboard<2.8,>=2.7\n",
            "  Downloading tensorboard-2.7.0-py3-none-any.whl (5.8 MB)\n",
            "\u001b[K     |████████████████████████████████| 5.8 MB 6.8 MB/s \n",
            "\u001b[?25hRequirement already satisfied: tf-estimator-nightly==2.8.0.dev2021122109 in /usr/local/lib/python3.7/dist-packages (from tensorflow-gpu==2.8.0rc0->-r requirements-gpu.txt (line 1)) (2.8.0.dev2021122109)\n",
            "Requirement already satisfied: keras<2.9,>=2.8.0rc0 in /usr/local/lib/python3.7/dist-packages (from tensorflow-gpu==2.8.0rc0->-r requirements-gpu.txt (line 1)) (2.8.0)\n",
            "Requirement already satisfied: gast>=0.2.1 in /usr/local/lib/python3.7/dist-packages (from tensorflow-gpu==2.8.0rc0->-r requirements-gpu.txt (line 1)) (0.5.3)\n",
            "Requirement already satisfied: astunparse>=1.6.0 in /usr/local/lib/python3.7/dist-packages (from tensorflow-gpu==2.8.0rc0->-r requirements-gpu.txt (line 1)) (1.6.3)\n",
            "Requirement already satisfied: flatbuffers>=1.12 in /usr/local/lib/python3.7/dist-packages (from tensorflow-gpu==2.8.0rc0->-r requirements-gpu.txt (line 1)) (2.0.7)\n",
            "Requirement already satisfied: protobuf>=3.9.2 in /usr/local/lib/python3.7/dist-packages (from tensorflow-gpu==2.8.0rc0->-r requirements-gpu.txt (line 1)) (3.17.3)\n",
            "Requirement already satisfied: wrapt>=1.11.0 in /usr/local/lib/python3.7/dist-packages (from tensorflow-gpu==2.8.0rc0->-r requirements-gpu.txt (line 1)) (1.14.1)\n",
            "Requirement already satisfied: opt-einsum>=2.3.2 in /usr/local/lib/python3.7/dist-packages (from tensorflow-gpu==2.8.0rc0->-r requirements-gpu.txt (line 1)) (3.3.0)\n",
            "Requirement already satisfied: typing-extensions>=3.6.6 in /usr/local/lib/python3.7/dist-packages (from tensorflow-gpu==2.8.0rc0->-r requirements-gpu.txt (line 1)) (4.1.1)\n",
            "Requirement already satisfied: termcolor>=1.1.0 in /usr/local/lib/python3.7/dist-packages (from tensorflow-gpu==2.8.0rc0->-r requirements-gpu.txt (line 1)) (1.1.0)\n",
            "Requirement already satisfied: keras-preprocessing>=1.1.1 in /usr/local/lib/python3.7/dist-packages (from tensorflow-gpu==2.8.0rc0->-r requirements-gpu.txt (line 1)) (1.1.2)\n",
            "Requirement already satisfied: six>=1.12.0 in /usr/local/lib/python3.7/dist-packages (from tensorflow-gpu==2.8.0rc0->-r requirements-gpu.txt (line 1)) (1.15.0)\n",
            "Requirement already satisfied: tensorflow-io-gcs-filesystem>=0.23.1 in /usr/local/lib/python3.7/dist-packages (from tensorflow-gpu==2.8.0rc0->-r requirements-gpu.txt (line 1)) (0.26.0)\n",
            "Requirement already satisfied: setuptools<60 in /usr/local/lib/python3.7/dist-packages (from tensorflow-gpu==2.8.0rc0->-r requirements-gpu.txt (line 1)) (57.4.0)\n",
            "Requirement already satisfied: h5py>=2.9.0 in /usr/local/lib/python3.7/dist-packages (from tensorflow-gpu==2.8.0rc0->-r requirements-gpu.txt (line 1)) (3.1.0)\n",
            "Requirement already satisfied: google-pasta>=0.1.1 in /usr/local/lib/python3.7/dist-packages (from tensorflow-gpu==2.8.0rc0->-r requirements-gpu.txt (line 1)) (0.2.0)\n",
            "Requirement already satisfied: wheel<1.0,>=0.23.0 in /usr/local/lib/python3.7/dist-packages (from astunparse>=1.6.0->tensorflow-gpu==2.8.0rc0->-r requirements-gpu.txt (line 1)) (0.37.1)\n",
            "Requirement already satisfied: cached-property in /usr/local/lib/python3.7/dist-packages (from h5py>=2.9.0->tensorflow-gpu==2.8.0rc0->-r requirements-gpu.txt (line 1)) (1.5.2)\n",
            "Requirement already satisfied: tensorboard-plugin-wit>=1.6.0 in /usr/local/lib/python3.7/dist-packages (from tensorboard<2.8,>=2.7->tensorflow-gpu==2.8.0rc0->-r requirements-gpu.txt (line 1)) (1.8.1)\n",
            "Requirement already satisfied: markdown>=2.6.8 in /usr/local/lib/python3.7/dist-packages (from tensorboard<2.8,>=2.7->tensorflow-gpu==2.8.0rc0->-r requirements-gpu.txt (line 1)) (3.4.1)\n",
            "Requirement already satisfied: tensorboard-data-server<0.7.0,>=0.6.0 in /usr/local/lib/python3.7/dist-packages (from tensorboard<2.8,>=2.7->tensorflow-gpu==2.8.0rc0->-r requirements-gpu.txt (line 1)) (0.6.1)\n",
            "Requirement already satisfied: requests<3,>=2.21.0 in /usr/local/lib/python3.7/dist-packages (from tensorboard<2.8,>=2.7->tensorflow-gpu==2.8.0rc0->-r requirements-gpu.txt (line 1)) (2.23.0)\n",
            "Requirement already satisfied: werkzeug>=0.11.15 in /usr/local/lib/python3.7/dist-packages (from tensorboard<2.8,>=2.7->tensorflow-gpu==2.8.0rc0->-r requirements-gpu.txt (line 1)) (1.0.1)\n",
            "Requirement already satisfied: google-auth<3,>=1.6.3 in /usr/local/lib/python3.7/dist-packages (from tensorboard<2.8,>=2.7->tensorflow-gpu==2.8.0rc0->-r requirements-gpu.txt (line 1)) (1.35.0)\n",
            "Requirement already satisfied: google-auth-oauthlib<0.5,>=0.4.1 in /usr/local/lib/python3.7/dist-packages (from tensorboard<2.8,>=2.7->tensorflow-gpu==2.8.0rc0->-r requirements-gpu.txt (line 1)) (0.4.6)\n",
            "Requirement already satisfied: pyasn1-modules>=0.2.1 in /usr/local/lib/python3.7/dist-packages (from google-auth<3,>=1.6.3->tensorboard<2.8,>=2.7->tensorflow-gpu==2.8.0rc0->-r requirements-gpu.txt (line 1)) (0.2.8)\n",
            "Requirement already satisfied: cachetools<5.0,>=2.0.0 in /usr/local/lib/python3.7/dist-packages (from google-auth<3,>=1.6.3->tensorboard<2.8,>=2.7->tensorflow-gpu==2.8.0rc0->-r requirements-gpu.txt (line 1)) (4.2.4)\n",
            "Requirement already satisfied: rsa<5,>=3.1.4 in /usr/local/lib/python3.7/dist-packages (from google-auth<3,>=1.6.3->tensorboard<2.8,>=2.7->tensorflow-gpu==2.8.0rc0->-r requirements-gpu.txt (line 1)) (4.9)\n",
            "Requirement already satisfied: requests-oauthlib>=0.7.0 in /usr/local/lib/python3.7/dist-packages (from google-auth-oauthlib<0.5,>=0.4.1->tensorboard<2.8,>=2.7->tensorflow-gpu==2.8.0rc0->-r requirements-gpu.txt (line 1)) (1.3.1)\n",
            "Requirement already satisfied: importlib-metadata>=4.4 in /usr/local/lib/python3.7/dist-packages (from markdown>=2.6.8->tensorboard<2.8,>=2.7->tensorflow-gpu==2.8.0rc0->-r requirements-gpu.txt (line 1)) (4.12.0)\n",
            "Requirement already satisfied: zipp>=0.5 in /usr/local/lib/python3.7/dist-packages (from importlib-metadata>=4.4->markdown>=2.6.8->tensorboard<2.8,>=2.7->tensorflow-gpu==2.8.0rc0->-r requirements-gpu.txt (line 1)) (3.8.1)\n",
            "Requirement already satisfied: pyasn1<0.5.0,>=0.4.6 in /usr/local/lib/python3.7/dist-packages (from pyasn1-modules>=0.2.1->google-auth<3,>=1.6.3->tensorboard<2.8,>=2.7->tensorflow-gpu==2.8.0rc0->-r requirements-gpu.txt (line 1)) (0.4.8)\n",
            "Requirement already satisfied: idna<3,>=2.5 in /usr/local/lib/python3.7/dist-packages (from requests<3,>=2.21.0->tensorboard<2.8,>=2.7->tensorflow-gpu==2.8.0rc0->-r requirements-gpu.txt (line 1)) (2.10)\n",
            "Requirement already satisfied: certifi>=2017.4.17 in /usr/local/lib/python3.7/dist-packages (from requests<3,>=2.21.0->tensorboard<2.8,>=2.7->tensorflow-gpu==2.8.0rc0->-r requirements-gpu.txt (line 1)) (2022.6.15)\n",
            "Requirement already satisfied: urllib3!=1.25.0,!=1.25.1,<1.26,>=1.21.1 in /usr/local/lib/python3.7/dist-packages (from requests<3,>=2.21.0->tensorboard<2.8,>=2.7->tensorflow-gpu==2.8.0rc0->-r requirements-gpu.txt (line 1)) (1.24.3)\n",
            "Requirement already satisfied: chardet<4,>=3.0.2 in /usr/local/lib/python3.7/dist-packages (from requests<3,>=2.21.0->tensorboard<2.8,>=2.7->tensorflow-gpu==2.8.0rc0->-r requirements-gpu.txt (line 1)) (3.0.4)\n",
            "Requirement already satisfied: oauthlib>=3.0.0 in /usr/local/lib/python3.7/dist-packages (from requests-oauthlib>=0.7.0->google-auth-oauthlib<0.5,>=0.4.1->tensorboard<2.8,>=2.7->tensorflow-gpu==2.8.0rc0->-r requirements-gpu.txt (line 1)) (3.2.0)\n",
            "Requirement already satisfied: python-dateutil>=2.1 in /usr/local/lib/python3.7/dist-packages (from matplotlib->-r requirements-gpu.txt (line 6)) (2.8.2)\n",
            "Requirement already satisfied: pyparsing!=2.0.4,!=2.1.2,!=2.1.6,>=2.0.1 in /usr/local/lib/python3.7/dist-packages (from matplotlib->-r requirements-gpu.txt (line 6)) (3.0.9)\n",
            "Requirement already satisfied: kiwisolver>=1.0.1 in /usr/local/lib/python3.7/dist-packages (from matplotlib->-r requirements-gpu.txt (line 6)) (1.4.4)\n",
            "Requirement already satisfied: cycler>=0.10 in /usr/local/lib/python3.7/dist-packages (from matplotlib->-r requirements-gpu.txt (line 6)) (0.11.0)\n",
            "Installing collected packages: tensorboard, tensorflow-gpu, opencv-python\n",
            "  Attempting uninstall: tensorboard\n",
            "    Found existing installation: tensorboard 2.8.0\n",
            "    Uninstalling tensorboard-2.8.0:\n",
            "      Successfully uninstalled tensorboard-2.8.0\n",
            "  Attempting uninstall: opencv-python\n",
            "    Found existing installation: opencv-python 4.6.0.66\n",
            "    Uninstalling opencv-python-4.6.0.66:\n",
            "      Successfully uninstalled opencv-python-4.6.0.66\n",
            "\u001b[31mERROR: pip's dependency resolver does not currently take into account all the packages that are installed. This behaviour is the source of the following dependency conflicts.\n",
            "tensorflow 2.8.0+zzzcolab20220506162203 requires tensorboard<2.9,>=2.8, but you have tensorboard 2.7.0 which is incompatible.\u001b[0m\n",
            "Successfully installed opencv-python-4.1.1.26 tensorboard-2.7.0 tensorflow-gpu-2.8.0rc0\n"
          ]
        },
        {
          "output_type": "display_data",
          "data": {
            "application/vnd.colab-display-data+json": {
              "pip_warning": {
                "packages": [
                  "cv2",
                  "tensorboard",
                  "tensorflow"
                ]
              }
            }
          },
          "metadata": {}
        }
      ],
      "source": [
        "!pip install -r requirements-gpu.txt"
      ]
    },
    {
      "cell_type": "code",
      "execution_count": null,
      "metadata": {
        "colab": {
          "base_uri": "https://localhost:8080/"
        },
        "id": "9RTNxCn4ORZW",
        "outputId": "cbe50abe-e4c8-4f11-a699-357f8576f2ac"
      },
      "outputs": [
        {
          "output_type": "stream",
          "name": "stdout",
          "text": [
            "/content/darknet/tensorflow-yolov4-tflite/scripts\n"
          ]
        }
      ],
      "source": [
        "%cd /content/darknet/tensorflow-yolov4-tflite/scripts"
      ]
    },
    {
      "cell_type": "code",
      "execution_count": null,
      "metadata": {
        "colab": {
          "base_uri": "https://localhost:8080/"
        },
        "id": "4Ftnv1zvOKsn",
        "outputId": "2669f536-0dcf-492c-e991-e6f865dfe082"
      },
      "outputs": [
        {
          "output_type": "stream",
          "name": "stdout",
          "text": [
            "/usr/local/lib/python3.7/dist-packages/gdown/cli.py:131: FutureWarning: Option `--id` was deprecated in version 4.3.1 and will be removed in 5.0. You don't need to pass it anymore to use a file ID.\n",
            "  category=FutureWarning,\n",
            "Access denied with the following error:\n",
            "\n",
            " \tCannot retrieve the public link of the file. You may need to change\n",
            "\tthe permission to 'Anyone with the link', or have had many accesses. \n",
            "\n",
            "You may still be able to access the file from the browser:\n",
            "\n",
            "\t https://drive.google.com/uc?id=1cewMfusmPjYWbrnuJRuKhPMwRe_b9PaT \n",
            "\n"
          ]
        }
      ],
      "source": [
        "# yolov4.weights file 다운로드\n",
        "!gdown --id 1cewMfusmPjYWbrnuJRuKhPMwRe_b9PaT"
      ]
    },
    {
      "cell_type": "code",
      "execution_count": null,
      "metadata": {
        "colab": {
          "base_uri": "https://localhost:8080/"
        },
        "id": "ZlJmIQ8-O6SU",
        "outputId": "9b0a23c8-e655-4e1e-e8b3-7d321017981a"
      },
      "outputs": [
        {
          "output_type": "stream",
          "name": "stdout",
          "text": [
            "/content/darknet/tensorflow-yolov4-tflite\n"
          ]
        }
      ],
      "source": [
        "%cd .."
      ]
    },
    {
      "cell_type": "code",
      "execution_count": null,
      "metadata": {
        "colab": {
          "base_uri": "https://localhost:8080/"
        },
        "id": "mUL81WOhNtL4",
        "outputId": "58214906-8894-4fbf-919e-ffda0c9dd16b"
      },
      "outputs": [
        {
          "output_type": "stream",
          "name": "stdout",
          "text": [
            "2022-09-01 07:54:26.652183: W tensorflow/core/common_runtime/gpu/gpu_bfc_allocator.cc:39] Overriding allow_growth setting because the TF_FORCE_GPU_ALLOW_GROWTH environment variable is set. Original config value was 0.\n",
            "Traceback (most recent call last):\n",
            "  File \"save_model.py\", line 58, in <module>\n",
            "    app.run(main)\n",
            "  File \"/usr/local/lib/python3.7/dist-packages/absl/app.py\", line 308, in run\n",
            "    _run_main(main, args)\n",
            "  File \"/usr/local/lib/python3.7/dist-packages/absl/app.py\", line 254, in _run_main\n",
            "    sys.exit(main(argv))\n",
            "  File \"save_model.py\", line 54, in main\n",
            "    save_tf()\n",
            "  File \"save_model.py\", line 49, in save_tf\n",
            "    utils.load_weights(model, FLAGS.weights, FLAGS.model, FLAGS.tiny)\n",
            "  File \"/content/darknet/tensorflow-yolov4-tflite/core/utils.py\", line 36, in load_weights\n",
            "    wf = open(weights_file, 'rb')\n",
            "FileNotFoundError: [Errno 2] No such file or directory: './data/yolov4.weights'\n"
          ]
        }
      ],
      "source": [
        "# darknet weights -> tensorflow 형식으로 변환\n",
        "## yolov4\n",
        "!python save_model.py --weights ./data/yolov4.weights --output ./checkpoints/yolov4-416 --input_size 416 --model yolov4 "
      ]
    },
    {
      "cell_type": "code",
      "execution_count": null,
      "metadata": {
        "colab": {
          "base_uri": "https://localhost:8080/"
        },
        "id": "SxLfIiHVP5tb",
        "outputId": "39dca1ed-74f6-4a11-b081-6c572dc294f3"
      },
      "outputs": [
        {
          "output_type": "stream",
          "name": "stdout",
          "text": [
            "Traceback (most recent call last):\n",
            "  File \"detect.py\", line 107, in <module>\n",
            "    app.run(main)\n",
            "  File \"/usr/local/lib/python3.7/dist-packages/absl/app.py\", line 308, in run\n",
            "    _run_main(main, args)\n",
            "  File \"/usr/local/lib/python3.7/dist-packages/absl/app.py\", line 254, in _run_main\n",
            "    sys.exit(main(argv))\n",
            "  File \"detect.py\", line 41, in main\n",
            "    saved_model_loaded = tf.saved_model.load(FLAGS.weights, tags=[tag_constants.SERVING])\n",
            "  File \"/usr/local/lib/python3.7/dist-packages/tensorflow/python/saved_model/load.py\", line 936, in load\n",
            "    result = load_internal(export_dir, tags, options)[\"root\"]\n",
            "  File \"/usr/local/lib/python3.7/dist-packages/tensorflow/python/saved_model/load.py\", line 949, in load_internal\n",
            "    loader_impl.parse_saved_model_with_debug_info(export_dir))\n",
            "  File \"/usr/local/lib/python3.7/dist-packages/tensorflow/python/saved_model/loader_impl.py\", line 57, in parse_saved_model_with_debug_info\n",
            "    saved_model = parse_saved_model(export_dir)\n",
            "  File \"/usr/local/lib/python3.7/dist-packages/tensorflow/python/saved_model/loader_impl.py\", line 116, in parse_saved_model\n",
            "    f\"SavedModel file does not exist at: {export_dir}{os.path.sep}\"\n",
            "OSError: SavedModel file does not exist at: ./checkpoints/yolov4-416/{saved_model.pbtxt|saved_model.pb}\n"
          ]
        }
      ],
      "source": [
        "# yolov4 tensorflow model 실행\n",
        "!python detect.py --weights ./checkpoints/yolov4-416 --size 416 --model yolov4 --images ./data/images/dog.jpg"
      ]
    },
    {
      "cell_type": "code",
      "source": [
        "# https://drive.google.com/file/d/1s8CTgK8VahSJNxPQ1JdZWjOhshlsnsQX/view?usp=sharing\n",
        "!gdown --id 1s8CTgK8VahSJNxPQ1JdZWjOhshlsnsQX\n"
      ],
      "metadata": {
        "colab": {
          "base_uri": "https://localhost:8080/"
        },
        "id": "C55Jtk2L0zS5",
        "outputId": "ffb40a83-da84-4481-85ff-eab1f8386129"
      },
      "execution_count": null,
      "outputs": [
        {
          "output_type": "stream",
          "name": "stdout",
          "text": [
            "/usr/local/lib/python3.7/dist-packages/gdown/cli.py:131: FutureWarning: Option `--id` was deprecated in version 4.3.1 and will be removed in 5.0. You don't need to pass it anymore to use a file ID.\n",
            "  category=FutureWarning,\n",
            "Downloading...\n",
            "From: https://drive.google.com/uc?id=1s8CTgK8VahSJNxPQ1JdZWjOhshlsnsQX\n",
            "To: /content/darknet/tensorflow-yolov4-tflite/KakaoTalk_20220901_155202412.mp4\n",
            "100% 3.53M/3.53M [00:00<00:00, 173MB/s]\n"
          ]
        }
      ]
    },
    {
      "cell_type": "code",
      "source": [
        "!python detect_video.py --weights ./checkpoints/yolov4-416 --size 416 --model yolov4 --video ./data/video/video.mp4 --output ./detections/results.mp4"
      ],
      "metadata": {
        "colab": {
          "base_uri": "https://localhost:8080/"
        },
        "id": "qV_4awY4tOmZ",
        "outputId": "bad3b2d3-4280-46fd-bfef-317774613b2a"
      },
      "execution_count": null,
      "outputs": [
        {
          "output_type": "stream",
          "name": "stdout",
          "text": [
            " CUDA-version: 11010 (11020), cuDNN: 7.6.5, CUDNN_HALF=1, GPU count: 1  \n",
            " CUDNN_HALF=1 \n",
            " OpenCV version: 3.2.0\n",
            "Demo\n",
            " 0 : compute_capability = 700, cudnn_half = 1, GPU: Tesla V100-SXM2-16GB \n",
            "net.optimized_memory = 0 \n",
            "mini_batch = 1, batch = 8, time_steps = 1, train = 0 \n",
            "   layer   filters  size/strd(dil)      input                output\n",
            "   0 Create CUDA-stream - 0 \n",
            " Create cudnn-handle 0 \n",
            "conv     32       3 x 3/ 1    608 x 608 x   3 ->  608 x 608 x  32 0.639 BF\n",
            "   1 conv     64       3 x 3/ 2    608 x 608 x  32 ->  304 x 304 x  64 3.407 BF\n",
            "   2 conv     64       1 x 1/ 1    304 x 304 x  64 ->  304 x 304 x  64 0.757 BF\n",
            "   3 route  1 \t\t                           ->  304 x 304 x  64 \n",
            "   4 conv     64       1 x 1/ 1    304 x 304 x  64 ->  304 x 304 x  64 0.757 BF\n",
            "   5 conv     32       1 x 1/ 1    304 x 304 x  64 ->  304 x 304 x  32 0.379 BF\n",
            "   6 conv     64       3 x 3/ 1    304 x 304 x  32 ->  304 x 304 x  64 3.407 BF\n",
            "   7 Shortcut Layer: 4,  wt = 0, wn = 0, outputs: 304 x 304 x  64 0.006 BF\n",
            "   8 conv     64       1 x 1/ 1    304 x 304 x  64 ->  304 x 304 x  64 0.757 BF\n",
            "   9 route  8 2 \t                           ->  304 x 304 x 128 \n",
            "  10 conv     64       1 x 1/ 1    304 x 304 x 128 ->  304 x 304 x  64 1.514 BF\n",
            "  11 conv    128       3 x 3/ 2    304 x 304 x  64 ->  152 x 152 x 128 3.407 BF\n",
            "  12 conv     64       1 x 1/ 1    152 x 152 x 128 ->  152 x 152 x  64 0.379 BF\n",
            "  13 route  11 \t\t                           ->  152 x 152 x 128 \n",
            "  14 conv     64       1 x 1/ 1    152 x 152 x 128 ->  152 x 152 x  64 0.379 BF\n",
            "  15 conv     64       1 x 1/ 1    152 x 152 x  64 ->  152 x 152 x  64 0.189 BF\n",
            "  16 conv     64       3 x 3/ 1    152 x 152 x  64 ->  152 x 152 x  64 1.703 BF\n",
            "  17 Shortcut Layer: 14,  wt = 0, wn = 0, outputs: 152 x 152 x  64 0.001 BF\n",
            "  18 conv     64       1 x 1/ 1    152 x 152 x  64 ->  152 x 152 x  64 0.189 BF\n",
            "  19 conv     64       3 x 3/ 1    152 x 152 x  64 ->  152 x 152 x  64 1.703 BF\n",
            "  20 Shortcut Layer: 17,  wt = 0, wn = 0, outputs: 152 x 152 x  64 0.001 BF\n",
            "  21 conv     64       1 x 1/ 1    152 x 152 x  64 ->  152 x 152 x  64 0.189 BF\n",
            "  22 route  21 12 \t                           ->  152 x 152 x 128 \n",
            "  23 conv    128       1 x 1/ 1    152 x 152 x 128 ->  152 x 152 x 128 0.757 BF\n",
            "  24 conv    256       3 x 3/ 2    152 x 152 x 128 ->   76 x  76 x 256 3.407 BF\n",
            "  25 conv    128       1 x 1/ 1     76 x  76 x 256 ->   76 x  76 x 128 0.379 BF\n",
            "  26 route  24 \t\t                           ->   76 x  76 x 256 \n",
            "  27 conv    128       1 x 1/ 1     76 x  76 x 256 ->   76 x  76 x 128 0.379 BF\n",
            "  28 conv    128       1 x 1/ 1     76 x  76 x 128 ->   76 x  76 x 128 0.189 BF\n",
            "  29 conv    128       3 x 3/ 1     76 x  76 x 128 ->   76 x  76 x 128 1.703 BF\n",
            "  30 Shortcut Layer: 27,  wt = 0, wn = 0, outputs:  76 x  76 x 128 0.001 BF\n",
            "  31 conv    128       1 x 1/ 1     76 x  76 x 128 ->   76 x  76 x 128 0.189 BF\n",
            "  32 conv    128       3 x 3/ 1     76 x  76 x 128 ->   76 x  76 x 128 1.703 BF\n",
            "  33 Shortcut Layer: 30,  wt = 0, wn = 0, outputs:  76 x  76 x 128 0.001 BF\n",
            "  34 conv    128       1 x 1/ 1     76 x  76 x 128 ->   76 x  76 x 128 0.189 BF\n",
            "  35 conv    128       3 x 3/ 1     76 x  76 x 128 ->   76 x  76 x 128 1.703 BF\n",
            "  36 Shortcut Layer: 33,  wt = 0, wn = 0, outputs:  76 x  76 x 128 0.001 BF\n",
            "  37 conv    128       1 x 1/ 1     76 x  76 x 128 ->   76 x  76 x 128 0.189 BF\n",
            "  38 conv    128       3 x 3/ 1     76 x  76 x 128 ->   76 x  76 x 128 1.703 BF\n",
            "  39 Shortcut Layer: 36,  wt = 0, wn = 0, outputs:  76 x  76 x 128 0.001 BF\n",
            "  40 conv    128       1 x 1/ 1     76 x  76 x 128 ->   76 x  76 x 128 0.189 BF\n",
            "  41 conv    128       3 x 3/ 1     76 x  76 x 128 ->   76 x  76 x 128 1.703 BF\n",
            "  42 Shortcut Layer: 39,  wt = 0, wn = 0, outputs:  76 x  76 x 128 0.001 BF\n",
            "  43 conv    128       1 x 1/ 1     76 x  76 x 128 ->   76 x  76 x 128 0.189 BF\n",
            "  44 conv    128       3 x 3/ 1     76 x  76 x 128 ->   76 x  76 x 128 1.703 BF\n",
            "  45 Shortcut Layer: 42,  wt = 0, wn = 0, outputs:  76 x  76 x 128 0.001 BF\n",
            "  46 conv    128       1 x 1/ 1     76 x  76 x 128 ->   76 x  76 x 128 0.189 BF\n",
            "  47 conv    128       3 x 3/ 1     76 x  76 x 128 ->   76 x  76 x 128 1.703 BF\n",
            "  48 Shortcut Layer: 45,  wt = 0, wn = 0, outputs:  76 x  76 x 128 0.001 BF\n",
            "  49 conv    128       1 x 1/ 1     76 x  76 x 128 ->   76 x  76 x 128 0.189 BF\n",
            "  50 conv    128       3 x 3/ 1     76 x  76 x 128 ->   76 x  76 x 128 1.703 BF\n",
            "  51 Shortcut Layer: 48,  wt = 0, wn = 0, outputs:  76 x  76 x 128 0.001 BF\n",
            "  52 conv    128       1 x 1/ 1     76 x  76 x 128 ->   76 x  76 x 128 0.189 BF\n",
            "  53 route  52 25 \t                           ->   76 x  76 x 256 \n",
            "  54 conv    256       1 x 1/ 1     76 x  76 x 256 ->   76 x  76 x 256 0.757 BF\n",
            "  55 conv    512       3 x 3/ 2     76 x  76 x 256 ->   38 x  38 x 512 3.407 BF\n",
            "  56 conv    256       1 x 1/ 1     38 x  38 x 512 ->   38 x  38 x 256 0.379 BF\n",
            "  57 route  55 \t\t                           ->   38 x  38 x 512 \n",
            "  58 conv    256       1 x 1/ 1     38 x  38 x 512 ->   38 x  38 x 256 0.379 BF\n",
            "  59 conv    256       1 x 1/ 1     38 x  38 x 256 ->   38 x  38 x 256 0.189 BF\n",
            "  60 conv    256       3 x 3/ 1     38 x  38 x 256 ->   38 x  38 x 256 1.703 BF\n",
            "  61 Shortcut Layer: 58,  wt = 0, wn = 0, outputs:  38 x  38 x 256 0.000 BF\n",
            "  62 conv    256       1 x 1/ 1     38 x  38 x 256 ->   38 x  38 x 256 0.189 BF\n",
            "  63 conv    256       3 x 3/ 1     38 x  38 x 256 ->   38 x  38 x 256 1.703 BF\n",
            "  64 Shortcut Layer: 61,  wt = 0, wn = 0, outputs:  38 x  38 x 256 0.000 BF\n",
            "  65 conv    256       1 x 1/ 1     38 x  38 x 256 ->   38 x  38 x 256 0.189 BF\n",
            "  66 conv    256       3 x 3/ 1     38 x  38 x 256 ->   38 x  38 x 256 1.703 BF\n",
            "  67 Shortcut Layer: 64,  wt = 0, wn = 0, outputs:  38 x  38 x 256 0.000 BF\n",
            "  68 conv    256       1 x 1/ 1     38 x  38 x 256 ->   38 x  38 x 256 0.189 BF\n",
            "  69 conv    256       3 x 3/ 1     38 x  38 x 256 ->   38 x  38 x 256 1.703 BF\n",
            "  70 Shortcut Layer: 67,  wt = 0, wn = 0, outputs:  38 x  38 x 256 0.000 BF\n",
            "  71 conv    256       1 x 1/ 1     38 x  38 x 256 ->   38 x  38 x 256 0.189 BF\n",
            "  72 conv    256       3 x 3/ 1     38 x  38 x 256 ->   38 x  38 x 256 1.703 BF\n",
            "  73 Shortcut Layer: 70,  wt = 0, wn = 0, outputs:  38 x  38 x 256 0.000 BF\n",
            "  74 conv    256       1 x 1/ 1     38 x  38 x 256 ->   38 x  38 x 256 0.189 BF\n",
            "  75 conv    256       3 x 3/ 1     38 x  38 x 256 ->   38 x  38 x 256 1.703 BF\n",
            "  76 Shortcut Layer: 73,  wt = 0, wn = 0, outputs:  38 x  38 x 256 0.000 BF\n",
            "  77 conv    256       1 x 1/ 1     38 x  38 x 256 ->   38 x  38 x 256 0.189 BF\n",
            "  78 conv    256       3 x 3/ 1     38 x  38 x 256 ->   38 x  38 x 256 1.703 BF\n",
            "  79 Shortcut Layer: 76,  wt = 0, wn = 0, outputs:  38 x  38 x 256 0.000 BF\n",
            "  80 conv    256       1 x 1/ 1     38 x  38 x 256 ->   38 x  38 x 256 0.189 BF\n",
            "  81 conv    256       3 x 3/ 1     38 x  38 x 256 ->   38 x  38 x 256 1.703 BF\n",
            "  82 Shortcut Layer: 79,  wt = 0, wn = 0, outputs:  38 x  38 x 256 0.000 BF\n",
            "  83 conv    256       1 x 1/ 1     38 x  38 x 256 ->   38 x  38 x 256 0.189 BF\n",
            "  84 route  83 56 \t                           ->   38 x  38 x 512 \n",
            "  85 conv    512       1 x 1/ 1     38 x  38 x 512 ->   38 x  38 x 512 0.757 BF\n",
            "  86 conv   1024       3 x 3/ 2     38 x  38 x 512 ->   19 x  19 x1024 3.407 BF\n",
            "  87 conv    512       1 x 1/ 1     19 x  19 x1024 ->   19 x  19 x 512 0.379 BF\n",
            "  88 route  86 \t\t                           ->   19 x  19 x1024 \n",
            "  89 conv    512       1 x 1/ 1     19 x  19 x1024 ->   19 x  19 x 512 0.379 BF\n",
            "  90 conv    512       1 x 1/ 1     19 x  19 x 512 ->   19 x  19 x 512 0.189 BF\n",
            "  91 conv    512       3 x 3/ 1     19 x  19 x 512 ->   19 x  19 x 512 1.703 BF\n",
            "  92 Shortcut Layer: 89,  wt = 0, wn = 0, outputs:  19 x  19 x 512 0.000 BF\n",
            "  93 conv    512       1 x 1/ 1     19 x  19 x 512 ->   19 x  19 x 512 0.189 BF\n",
            "  94 conv    512       3 x 3/ 1     19 x  19 x 512 ->   19 x  19 x 512 1.703 BF\n",
            "  95 Shortcut Layer: 92,  wt = 0, wn = 0, outputs:  19 x  19 x 512 0.000 BF\n",
            "  96 conv    512       1 x 1/ 1     19 x  19 x 512 ->   19 x  19 x 512 0.189 BF\n",
            "  97 conv    512       3 x 3/ 1     19 x  19 x 512 ->   19 x  19 x 512 1.703 BF\n",
            "  98 Shortcut Layer: 95,  wt = 0, wn = 0, outputs:  19 x  19 x 512 0.000 BF\n",
            "  99 conv    512       1 x 1/ 1     19 x  19 x 512 ->   19 x  19 x 512 0.189 BF\n",
            " 100 conv    512       3 x 3/ 1     19 x  19 x 512 ->   19 x  19 x 512 1.703 BF\n",
            " 101 Shortcut Layer: 98,  wt = 0, wn = 0, outputs:  19 x  19 x 512 0.000 BF\n",
            " 102 conv    512       1 x 1/ 1     19 x  19 x 512 ->   19 x  19 x 512 0.189 BF\n",
            " 103 route  102 87 \t                           ->   19 x  19 x1024 \n",
            " 104 conv   1024       1 x 1/ 1     19 x  19 x1024 ->   19 x  19 x1024 0.757 BF\n",
            " 105 conv    512       1 x 1/ 1     19 x  19 x1024 ->   19 x  19 x 512 0.379 BF\n",
            " 106 conv   1024       3 x 3/ 1     19 x  19 x 512 ->   19 x  19 x1024 3.407 BF\n",
            " 107 conv    512       1 x 1/ 1     19 x  19 x1024 ->   19 x  19 x 512 0.379 BF\n",
            " 108 max                5x 5/ 1     19 x  19 x 512 ->   19 x  19 x 512 0.005 BF\n",
            " 109 route  107 \t\t                           ->   19 x  19 x 512 \n",
            " 110 max                9x 9/ 1     19 x  19 x 512 ->   19 x  19 x 512 0.015 BF\n",
            " 111 route  107 \t\t                           ->   19 x  19 x 512 \n",
            " 112 max               13x13/ 1     19 x  19 x 512 ->   19 x  19 x 512 0.031 BF\n",
            " 113 route  112 110 108 107 \t                   ->   19 x  19 x2048 \n",
            " 114 conv    512       1 x 1/ 1     19 x  19 x2048 ->   19 x  19 x 512 0.757 BF\n",
            " 115 conv   1024       3 x 3/ 1     19 x  19 x 512 ->   19 x  19 x1024 3.407 BF\n",
            " 116 conv    512       1 x 1/ 1     19 x  19 x1024 ->   19 x  19 x 512 0.379 BF\n",
            " 117 conv    256       1 x 1/ 1     19 x  19 x 512 ->   19 x  19 x 256 0.095 BF\n",
            " 118 upsample                 2x    19 x  19 x 256 ->   38 x  38 x 256\n",
            " 119 route  85 \t\t                           ->   38 x  38 x 512 \n",
            " 120 conv    256       1 x 1/ 1     38 x  38 x 512 ->   38 x  38 x 256 0.379 BF\n",
            " 121 route  120 118 \t                           ->   38 x  38 x 512 \n",
            " 122 conv    256       1 x 1/ 1     38 x  38 x 512 ->   38 x  38 x 256 0.379 BF\n",
            " 123 conv    512       3 x 3/ 1     38 x  38 x 256 ->   38 x  38 x 512 3.407 BF\n",
            " 124 conv    256       1 x 1/ 1     38 x  38 x 512 ->   38 x  38 x 256 0.379 BF\n",
            " 125 conv    512       3 x 3/ 1     38 x  38 x 256 ->   38 x  38 x 512 3.407 BF\n",
            " 126 conv    256       1 x 1/ 1     38 x  38 x 512 ->   38 x  38 x 256 0.379 BF\n",
            " 127 conv    128       1 x 1/ 1     38 x  38 x 256 ->   38 x  38 x 128 0.095 BF\n",
            " 128 upsample                 2x    38 x  38 x 128 ->   76 x  76 x 128\n",
            " 129 route  54 \t\t                           ->   76 x  76 x 256 \n",
            " 130 conv    128       1 x 1/ 1     76 x  76 x 256 ->   76 x  76 x 128 0.379 BF\n",
            " 131 route  130 128 \t                           ->   76 x  76 x 256 \n",
            " 132 conv    128       1 x 1/ 1     76 x  76 x 256 ->   76 x  76 x 128 0.379 BF\n",
            " 133 conv    256       3 x 3/ 1     76 x  76 x 128 ->   76 x  76 x 256 3.407 BF\n",
            " 134 conv    128       1 x 1/ 1     76 x  76 x 256 ->   76 x  76 x 128 0.379 BF\n",
            " 135 conv    256       3 x 3/ 1     76 x  76 x 128 ->   76 x  76 x 256 3.407 BF\n",
            " 136 conv    128       1 x 1/ 1     76 x  76 x 256 ->   76 x  76 x 128 0.379 BF\n",
            " 137 conv    256       3 x 3/ 1     76 x  76 x 128 ->   76 x  76 x 256 3.407 BF\n",
            " 138 conv    255       1 x 1/ 1     76 x  76 x 256 ->   76 x  76 x 255 0.754 BF\n",
            " 139 yolo\n",
            "[yolo] params: iou loss: ciou (4), iou_norm: 0.07, obj_norm: 1.00, cls_norm: 1.00, delta_norm: 1.00, scale_x_y: 1.20\n",
            "nms_kind: greedynms (1), beta = 0.600000 \n",
            " 140 route  136 \t\t                           ->   76 x  76 x 128 \n",
            " 141 conv    256       3 x 3/ 2     76 x  76 x 128 ->   38 x  38 x 256 0.852 BF\n",
            " 142 route  141 126 \t                           ->   38 x  38 x 512 \n",
            " 143 conv    256       1 x 1/ 1     38 x  38 x 512 ->   38 x  38 x 256 0.379 BF\n",
            " 144 conv    512       3 x 3/ 1     38 x  38 x 256 ->   38 x  38 x 512 3.407 BF\n",
            " 145 conv    256       1 x 1/ 1     38 x  38 x 512 ->   38 x  38 x 256 0.379 BF\n",
            " 146 conv    512       3 x 3/ 1     38 x  38 x 256 ->   38 x  38 x 512 3.407 BF\n",
            " 147 conv    256       1 x 1/ 1     38 x  38 x 512 ->   38 x  38 x 256 0.379 BF\n",
            " 148 conv    512       3 x 3/ 1     38 x  38 x 256 ->   38 x  38 x 512 3.407 BF\n",
            " 149 conv    255       1 x 1/ 1     38 x  38 x 512 ->   38 x  38 x 255 0.377 BF\n",
            " 150 yolo\n",
            "[yolo] params: iou loss: ciou (4), iou_norm: 0.07, obj_norm: 1.00, cls_norm: 1.00, delta_norm: 1.00, scale_x_y: 1.10\n",
            "nms_kind: greedynms (1), beta = 0.600000 \n",
            " 151 route  147 \t\t                           ->   38 x  38 x 256 \n",
            " 152 conv    512       3 x 3/ 2     38 x  38 x 256 ->   19 x  19 x 512 0.852 BF\n",
            " 153 route  152 116 \t                           ->   19 x  19 x1024 \n",
            " 154 conv    512       1 x 1/ 1     19 x  19 x1024 ->   19 x  19 x 512 0.379 BF\n",
            " 155 conv   1024       3 x 3/ 1     19 x  19 x 512 ->   19 x  19 x1024 3.407 BF\n",
            " 156 conv    512       1 x 1/ 1     19 x  19 x1024 ->   19 x  19 x 512 0.379 BF\n",
            " 157 conv   1024       3 x 3/ 1     19 x  19 x 512 ->   19 x  19 x1024 3.407 BF\n",
            " 158 conv    512       1 x 1/ 1     19 x  19 x1024 ->   19 x  19 x 512 0.379 BF\n",
            " 159 conv   1024       3 x 3/ 1     19 x  19 x 512 ->   19 x  19 x1024 3.407 BF\n",
            " 160 conv    255       1 x 1/ 1     19 x  19 x1024 ->   19 x  19 x 255 0.189 BF\n",
            " 161 yolo\n",
            "[yolo] params: iou loss: ciou (4), iou_norm: 0.07, obj_norm: 1.00, cls_norm: 1.00, delta_norm: 1.00, scale_x_y: 1.05\n",
            "nms_kind: greedynms (1), beta = 0.600000 \n",
            "Total BFLOPS 128.459 \n",
            "avg_outputs = 1068395 \n",
            " Allocate additional workspace_size = 73.21 MB \n",
            "Loading weights from data/yolov4-custom_best_1.weights...\n",
            " seen 64, trained: 220 K-images (3 Kilo-batches_64) \n",
            "Done! Loaded 159 layers from weights-file \n",
            "video file: /content/darknet/KakaoTalk_20220901_155202412.mp4\n",
            "\n",
            " Parameters don't match: in cfg-file classes=80, in data-file classes=11 \n",
            "^C\n"
          ]
        }
      ]
    },
    {
      "cell_type": "code",
      "source": [],
      "metadata": {
        "id": "Mr30XROe3Rcg"
      },
      "execution_count": null,
      "outputs": []
    },
    {
      "cell_type": "code",
      "execution_count": null,
      "metadata": {
        "id": "xZk68RUQW3Xq"
      },
      "outputs": [],
      "source": [
        "# 실시간 영상 스트리밍을 작동시키는 JavaScript 코드\n",
        "def video_stream():\n",
        "  js = Javascript('''\n",
        "    var video;\n",
        "    var div = null; \n",
        "    var stream;\n",
        "    var captureCanvas;\n",
        "    var imgElement;\n",
        "    var labelElement;\n",
        "    \n",
        "    var pendingResolve = null;\n",
        "    var shutdown = false;\n",
        "    \n",
        "    function removeDom() {\n",
        "       stream.getVideoTracks()[0].stop();\n",
        "       video.remove();\n",
        "       div.remove();\n",
        "       video = null;\n",
        "       div = null;\n",
        "       stream = null;\n",
        "       imgElement = null;\n",
        "       captureCanvas = null;\n",
        "       labelElement = null;\n",
        "    }\n",
        "    \n",
        "    function onAnimationFrame() {\n",
        "      if (!shutdown) {\n",
        "        window.requestAnimationFrame(onAnimationFrame);\n",
        "      }\n",
        "      if (pendingResolve) {\n",
        "        var result = \"\";\n",
        "        if (!shutdown) {\n",
        "          captureCanvas.getContext('2d').drawImage(video, 0, 0, 640, 480);\n",
        "          result = captureCanvas.toDataURL('image/jpeg', 0.8)\n",
        "        }\n",
        "        var lp = pendingResolve;\n",
        "        pendingResolve = null;\n",
        "        lp(result);\n",
        "      }\n",
        "    }\n",
        "    \n",
        "    async function createDom() {\n",
        "      if (div !== null) {\n",
        "        return stream;\n",
        "      }\n",
        "\n",
        "      div = document.createElement('div');\n",
        "      div.style.border = '2px solid black';\n",
        "      div.style.padding = '3px';\n",
        "      div.style.width = '100%';\n",
        "      div.style.maxWidth = '600px';\n",
        "      document.body.appendChild(div);\n",
        "      \n",
        "      const modelOut = document.createElement('div');\n",
        "      modelOut.innerHTML = \"<span>Status:</span>\";\n",
        "      labelElement = document.createElement('span');\n",
        "      labelElement.innerText = 'No data';\n",
        "      labelElement.style.fontWeight = 'bold';\n",
        "      modelOut.appendChild(labelElement);\n",
        "      div.appendChild(modelOut);\n",
        "           \n",
        "      video = document.createElement('video');\n",
        "      video.style.display = 'block';\n",
        "      video.width = div.clientWidth - 6;\n",
        "      video.setAttribute('playsinline', '');\n",
        "      video.onclick = () => { shutdown = true; };\n",
        "      stream = await navigator.mediaDevices.getUserMedia(\n",
        "          {video: { facingMode: \"environment\"}});\n",
        "      div.appendChild(video);\n",
        "\n",
        "      imgElement = document.createElement('img');\n",
        "      imgElement.style.position = 'absolute';\n",
        "      imgElement.style.zIndex = 1;\n",
        "      imgElement.onclick = () => { shutdown = true; };\n",
        "      div.appendChild(imgElement);\n",
        "      \n",
        "      const instruction = document.createElement('div');\n",
        "      instruction.innerHTML = \n",
        "          '<span style=\"color: red; font-weight: bold;\">' +\n",
        "          'When finished, click here or on the video to stop this demo</span>';\n",
        "      div.appendChild(instruction);\n",
        "      instruction.onclick = () => { shutdown = true; };\n",
        "      \n",
        "      video.srcObject = stream;\n",
        "      await video.play();\n",
        "\n",
        "      captureCanvas = document.createElement('canvas');\n",
        "      captureCanvas.width = 640; //video.videoWidth;\n",
        "      captureCanvas.height = 480; //video.videoHeight;\n",
        "      window.requestAnimationFrame(onAnimationFrame);\n",
        "      \n",
        "      return stream;\n",
        "    }\n",
        "    async function stream_frame(label, imgData) {\n",
        "      if (shutdown) {\n",
        "        removeDom();\n",
        "        shutdown = false;\n",
        "        return '';\n",
        "      }\n",
        "\n",
        "      var preCreate = Date.now();\n",
        "      stream = await createDom();\n",
        "      \n",
        "      var preShow = Date.now();\n",
        "      if (label != \"\") {\n",
        "        labelElement.innerHTML = label;\n",
        "      }\n",
        "            \n",
        "      if (imgData != \"\") {\n",
        "        var videoRect = video.getClientRects()[0];\n",
        "        imgElement.style.top = videoRect.top + \"px\";\n",
        "        imgElement.style.left = videoRect.left + \"px\";\n",
        "        imgElement.style.width = videoRect.width + \"px\";\n",
        "        imgElement.style.height = videoRect.height + \"px\";\n",
        "        imgElement.src = imgData;\n",
        "      }\n",
        "      \n",
        "      var preCapture = Date.now();\n",
        "      var result = await new Promise(function(resolve, reject) {\n",
        "        pendingResolve = resolve;\n",
        "      });\n",
        "      shutdown = false;\n",
        "      \n",
        "      return {'create': preShow - preCreate, \n",
        "              'show': preCapture - preShow, \n",
        "              'capture': Date.now() - preCapture,\n",
        "              'img': result};\n",
        "    }\n",
        "    ''')\n",
        "\n",
        "  display(js)\n",
        "  \n",
        "def video_frame(label, bbox):\n",
        "  data = eval_js('stream_frame(\"{}\", \"{}\")'.format(label, bbox))\n",
        "  return data"
      ]
    },
    {
      "cell_type": "markdown",
      "metadata": {
        "id": "UfaHiGn461oG"
      },
      "source": [
        "### Running on Webcam Video"
      ]
    },
    {
      "cell_type": "code",
      "execution_count": null,
      "metadata": {
        "colab": {
          "base_uri": "https://localhost:8080/",
          "height": 172
        },
        "id": "k0wcVXUFfTBI",
        "outputId": "e3b3c602-4f8e-45d9-e7cb-9421de2e4f6f"
      },
      "outputs": [
        {
          "ename": "NameError",
          "evalue": "ignored",
          "output_type": "error",
          "traceback": [
            "\u001b[0;31m---------------------------------------------------------------------------\u001b[0m",
            "\u001b[0;31mNameError\u001b[0m                                 Traceback (most recent call last)",
            "\u001b[0;32m<ipython-input-50-4c18077d10b2>\u001b[0m in \u001b[0;36m<module>\u001b[0;34m\u001b[0m\n\u001b[0;32m----> 1\u001b[0;31m \u001b[0mframe\u001b[0m\u001b[0;34m.\u001b[0m\u001b[0mshape\u001b[0m\u001b[0;34m\u001b[0m\u001b[0;34m\u001b[0m\u001b[0m\n\u001b[0m",
            "\u001b[0;31mNameError\u001b[0m: name 'frame' is not defined"
          ]
        }
      ],
      "source": [
        "frame.shape"
      ]
    },
    {
      "cell_type": "code",
      "execution_count": null,
      "metadata": {
        "colab": {
          "base_uri": "https://localhost:8080/",
          "height": 249
        },
        "id": "RPDr23YFW_7c",
        "outputId": "693a37d6-638a-4f0b-a433-7b69999accf2"
      },
      "outputs": [
        {
          "output_type": "error",
          "ename": "NameError",
          "evalue": "ignored",
          "traceback": [
            "\u001b[0;31m---------------------------------------------------------------------------\u001b[0m",
            "\u001b[0;31mNameError\u001b[0m                                 Traceback (most recent call last)",
            "\u001b[0;32m<ipython-input-8-9426c9f5b268>\u001b[0m in \u001b[0;36m<module>\u001b[0;34m\u001b[0m\n\u001b[1;32m      1\u001b[0m \u001b[0;31m# 웹캠에서 영상 스트리밍을 시작\u001b[0m\u001b[0;34m\u001b[0m\u001b[0;34m\u001b[0m\u001b[0;34m\u001b[0m\u001b[0m\n\u001b[0;32m----> 2\u001b[0;31m \u001b[0mvideo_stream\u001b[0m\u001b[0;34m(\u001b[0m\u001b[0;34m)\u001b[0m\u001b[0;34m\u001b[0m\u001b[0;34m\u001b[0m\u001b[0m\n\u001b[0m\u001b[1;32m      3\u001b[0m \u001b[0;31m# label for video\u001b[0m\u001b[0;34m\u001b[0m\u001b[0;34m\u001b[0m\u001b[0;34m\u001b[0m\u001b[0m\n\u001b[1;32m      4\u001b[0m \u001b[0mlabel_html\u001b[0m \u001b[0;34m=\u001b[0m \u001b[0;34m'Capturing...'\u001b[0m\u001b[0;34m\u001b[0m\u001b[0;34m\u001b[0m\u001b[0m\n\u001b[1;32m      5\u001b[0m \u001b[0;31m# bounding box 초기화\u001b[0m\u001b[0;34m\u001b[0m\u001b[0;34m\u001b[0m\u001b[0;34m\u001b[0m\u001b[0m\n",
            "\u001b[0;31mNameError\u001b[0m: name 'video_stream' is not defined"
          ]
        }
      ],
      "source": [
        "# 웹캠에서 영상 스트리밍을 시작\n",
        "video_stream()\n",
        "# label for video\n",
        "label_html = 'Capturing...'\n",
        "# bounding box 초기화 \n",
        "bbox = ''\n",
        "count = 0 \n",
        "while True:\n",
        "    js_reply = video_frame(label_html, bbox)\n",
        "    if not js_reply:\n",
        "        break\n",
        "\n",
        "    # javascript 객체를 OpenCV 이미지로 변환 \n",
        "    frame = js_to_image(js_reply[\"img\"])\n",
        "    \n",
        "\n",
        "    # bounding box를 위한 투명 overlay 생성\n",
        "    bbox_array = np.zeros([480,640,4], dtype=np.uint8)\n",
        "\n",
        "    # 앞서 정의하였던 darknet helper 함수를 실행 \n",
        "    detections, width_ratio, height_ratio = darknet_helper(frame, width, height)\n",
        "\n",
        "    # detection 결과를 순회하며 결과를 overlay 이미지에 표시\n",
        "    for label, confidence, bbox in detections:\n",
        "      left, top, right, bottom = bbox2points(bbox)\n",
        "      left, top, right, bottom = int(left * width_ratio), int(top * height_ratio), int(right * width_ratio), int(bottom * height_ratio)\n",
        "      bbox_array = cv2.rectangle(bbox_array, (left, top), (right, bottom), class_colors[label], 2)\n",
        "      bbox_array = cv2.putText(bbox_array, \"{} [{:.2f}]\".format(label, float(confidence)),\n",
        "                        (left, top - 5), cv2.FONT_HERSHEY_SIMPLEX, 0.5,\n",
        "                        class_colors[label], 2)\n",
        "\n",
        "    bbox_array[:,:,3] = (bbox_array.max(axis = 2) > 0 ).astype(int) * 255\n",
        "    # bounding box의 overlay를 바이트로 변환\n",
        "    bbox_bytes = bbox_to_bytes(bbox_array)\n",
        "    # bounding box를 업데이트하여 다음 프레임이 새로운 overlay를 갖도록 함\n",
        "    bbox = bbox_bytes"
      ]
    },
    {
      "cell_type": "code",
      "execution_count": null,
      "metadata": {
        "id": "LHpGUVme2ef6"
      },
      "outputs": [],
      "source": []
    }
  ]
}